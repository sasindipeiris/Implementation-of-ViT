{
  "nbformat": 4,
  "nbformat_minor": 0,
  "metadata": {
    "colab": {
      "provenance": [],
      "gpuType": "T4"
    },
    "kernelspec": {
      "name": "python3",
      "display_name": "Python 3"
    },
    "language_info": {
      "name": "python"
    },
    "accelerator": "GPU"
  },
  "cells": [
    {
      "cell_type": "markdown",
      "source": [
        "# Imports"
      ],
      "metadata": {
        "id": "CH9KXJSk-E0S"
      }
    },
    {
      "cell_type": "code",
      "execution_count": 1,
      "metadata": {
        "id": "3awPOZpHUxHp",
        "colab": {
          "base_uri": "https://localhost:8080/"
        },
        "outputId": "e7a36673-d5df-4e9d-a797-a2ad1ae03cca"
      },
      "outputs": [
        {
          "output_type": "stream",
          "name": "stdout",
          "text": [
            "cuda\n"
          ]
        }
      ],
      "source": [
        "import torch\n",
        "import torch.nn as nn\n",
        "import torch.nn.functional as F\n",
        "import timm\n",
        "from torchvision import datasets, transforms\n",
        "from torch.utils.data import DataLoader\n",
        "from torchvision.transforms import Compose, Resize, ToTensor, Normalize, RandomHorizontalFlip, ColorJitter\n",
        "import matplotlib.pyplot as plt\n",
        "from sklearn.metrics import confusion_matrix, ConfusionMatrixDisplay\n",
        "import numpy as np\n",
        "import os\n",
        "\n",
        "\n",
        "# Device\n",
        "DEVICE = print(torch.device(\"cuda\" if torch.cuda.is_available() else \"cpu\"))"
      ]
    },
    {
      "cell_type": "markdown",
      "source": [
        "# Hyperparameters"
      ],
      "metadata": {
        "id": "CzRh-rnG-wJJ"
      }
    },
    {
      "cell_type": "code",
      "source": [
        "IMG_SIZE = 224\n",
        "BATCH_SIZE = 4\n",
        "NUM_CLASSES = 37\n",
        "EPOCHS = 5\n"
      ],
      "metadata": {
        "id": "gDl431sD-2n6"
      },
      "execution_count": 12,
      "outputs": []
    },
    {
      "cell_type": "markdown",
      "source": [
        "# Dataset - Oxford-IIIT Pet"
      ],
      "metadata": {
        "id": "6IaoLiRj_B6p"
      }
    },
    {
      "cell_type": "code",
      "source": [
        "transform_train= Compose([\n",
        "Resize((IMG_SIZE, IMG_SIZE)),\n",
        "RandomHorizontalFlip(),\n",
        "#ColorJitter(brightness=0.2, contrast=0.2, saturation=0.2, hue=0.1),\n",
        "ToTensor(),\n",
        "Normalize([0.5, 0.5, 0.5], [0.5, 0.5, 0.5])\n",
        "])\n",
        "\n",
        "transform_test= Compose([\n",
        "Resize((IMG_SIZE, IMG_SIZE)),\n",
        "ToTensor(),\n",
        "Normalize([0.5, 0.5, 0.5], [0.5, 0.5, 0.5])\n",
        "])"
      ],
      "metadata": {
        "id": "1-il8-rt_IV0"
      },
      "execution_count": 18,
      "outputs": []
    },
    {
      "cell_type": "code",
      "source": [
        "trainset = datasets.OxfordIIITPet(root=\"./data\", download=True, transform=transform_train, target_types=\"category\")\n",
        "testset = datasets.OxfordIIITPet(root=\"./data\", split=\"test\", download=True, transform=transform_test, target_types=\"category\")\n",
        "trainloader = DataLoader(trainset, batch_size=BATCH_SIZE, shuffle=True, num_workers=2)\n",
        "testloader = DataLoader(testset, batch_size=BATCH_SIZE, shuffle=False, num_workers=2)"
      ],
      "metadata": {
        "id": "dvYiahQK_MY3"
      },
      "execution_count": 15,
      "outputs": []
    },
    {
      "cell_type": "markdown",
      "source": [
        "# Loading ViT-L/16"
      ],
      "metadata": {
        "id": "jRwRbfhk_oL4"
      }
    },
    {
      "cell_type": "code",
      "source": [
        "model=timm.create_model(\"vit_base_patch16_224\",pretrained=True)"
      ],
      "metadata": {
        "id": "jxyzjqii_vRA"
      },
      "execution_count": 21,
      "outputs": []
    },
    {
      "cell_type": "markdown",
      "source": [
        "# Interpolate Positional Embeddings"
      ],
      "metadata": {
        "id": "65dxtnYxAIaj"
      }
    },
    {
      "cell_type": "code",
      "source": [
        "def interpolate_pos_embed(model, new_img_size=224):\n",
        "\n",
        "  pos_embed = model.pos_embed\n",
        "  cls_token = pos_embed[:, 0:1, :]\n",
        "  patch_pos_embed = pos_embed[:, 1:, :]\n",
        "  num_patches = model.patch_embed.num_patches\n",
        "  orig_size = int(patch_pos_embed.shape[1] ** 0.5)\n",
        "  new_size = int(num_patches ** 0.5)\n",
        "  patch_pos_embed = patch_pos_embed.reshape(1, orig_size, orig_size, -1).permute(0, 3, 1, 2)\n",
        "  patch_pos_embed = F.interpolate(patch_pos_embed, size=(new_size, new_size), mode='bilinear')\n",
        "  patch_pos_embed = patch_pos_embed.permute(0, 2, 3, 1).reshape(1, new_size * new_size, -1)\n",
        "  model.pos_embed = nn.Parameter(torch.cat([cls_token, patch_pos_embed], dim=1))\n",
        "\n",
        "\n",
        "interpolate_pos_embed(model)"
      ],
      "metadata": {
        "id": "lxM2OX8TANm2"
      },
      "execution_count": 19,
      "outputs": []
    },
    {
      "cell_type": "markdown",
      "source": [
        "# Classification Head"
      ],
      "metadata": {
        "id": "_x2JRK1wKsTI"
      }
    },
    {
      "cell_type": "code",
      "source": [
        "model.head = nn.Sequential(\n",
        "    nn.Dropout(0.3),\n",
        "    nn.Linear(model.head.in_features, NUM_CLASSES)\n",
        ")"
      ],
      "metadata": {
        "id": "Twu9EU8UOC79"
      },
      "execution_count": 22,
      "outputs": []
    },
    {
      "cell_type": "markdown",
      "source": [
        "# Training\n",
        "\n"
      ],
      "metadata": {
        "id": "QmjJDqZcBV5G"
      }
    },
    {
      "cell_type": "code",
      "source": [
        "criterion = nn.CrossEntropyLoss()\n",
        "optimizer = torch.optim.Adam(model.parameters(), lr=3e-5)\n",
        "scheduler = torch.optim.lr_scheduler.ReduceLROnPlateau(optimizer, mode='max', patience=2)"
      ],
      "metadata": {
        "id": "sxhxJSWXAxmb"
      },
      "execution_count": 23,
      "outputs": []
    },
    {
      "cell_type": "code",
      "source": [
        "if os.path.exists(\"best_vit_pet.pth\"):\n",
        "  model.load_state_dict(torch.load(\"best_vit_pet.pth\"))\n",
        "  print(\"Loaded checkpoint\")"
      ],
      "metadata": {
        "colab": {
          "base_uri": "https://localhost:8080/"
        },
        "id": "EoVZvWGXBI7H",
        "outputId": "bf28f851-f358-416a-adf7-6de04fee9e18"
      },
      "execution_count": 24,
      "outputs": [
        {
          "output_type": "stream",
          "name": "stdout",
          "text": [
            "Loaded checkpoint\n"
          ]
        }
      ]
    },
    {
      "cell_type": "code",
      "source": [
        "# Train and save best checkpoint (no scheduler, no patience)\n",
        "train_accs, test_accs = [], []\n",
        "best_test_acc = 0\n",
        "\n",
        "for epoch in range(EPOCHS):\n",
        "    model.train()\n",
        "    correct, total = 0, 0\n",
        "    for x, y in trainloader:\n",
        "        x, y = x.to(DEVICE), y.to(DEVICE)\n",
        "        optimizer.zero_grad()\n",
        "        out = model(x)\n",
        "        loss = criterion(out, y)\n",
        "        loss.backward()\n",
        "        optimizer.step()\n",
        "        correct += (out.argmax(1) == y).sum().item()\n",
        "        total += y.size(0)\n",
        "    train_acc = correct / total\n",
        "    train_accs.append(train_acc)\n",
        "\n",
        "    model.eval()\n",
        "    correct, total = 0, 0\n",
        "    with torch.no_grad():\n",
        "        for x, y in testloader:\n",
        "            x, y = x.to(DEVICE), y.to(DEVICE)\n",
        "            out = model(x)\n",
        "            preds = out.argmax(1)\n",
        "            correct += (preds == y).sum().item()\n",
        "            total += y.size(0)\n",
        "    test_acc = correct / total\n",
        "    test_accs.append(test_acc)\n",
        "\n",
        "    print(f\"Epoch {epoch+1}/{EPOCHS} | Train Acc: {train_acc:.4f} | Test Acc: {test_acc:.4f}\")\n",
        "\n",
        "    # Save best model checkpoint\n",
        "    if test_acc > best_test_acc:\n",
        "        best_test_acc = test_acc\n",
        "        torch.save(model.state_dict(), \"best_vit_pet.pth\")\n",
        "        print(\" Saved best model\")\n"
      ],
      "metadata": {
        "colab": {
          "base_uri": "https://localhost:8080/",
          "height": 356
        },
        "id": "8Mo30Cv5UkjS",
        "outputId": "a5ab52b6-f8d7-42ef-90b3-10d44f050870"
      },
      "execution_count": 25,
      "outputs": [
        {
          "output_type": "error",
          "ename": "KeyboardInterrupt",
          "evalue": "",
          "traceback": [
            "\u001b[0;31m---------------------------------------------------------------------------\u001b[0m",
            "\u001b[0;31mKeyboardInterrupt\u001b[0m                         Traceback (most recent call last)",
            "\u001b[0;32m/tmp/ipython-input-1660680414.py\u001b[0m in \u001b[0;36m<cell line: 0>\u001b[0;34m()\u001b[0m\n\u001b[1;32m     11\u001b[0m         \u001b[0mout\u001b[0m \u001b[0;34m=\u001b[0m \u001b[0mmodel\u001b[0m\u001b[0;34m(\u001b[0m\u001b[0mx\u001b[0m\u001b[0;34m)\u001b[0m\u001b[0;34m\u001b[0m\u001b[0;34m\u001b[0m\u001b[0m\n\u001b[1;32m     12\u001b[0m         \u001b[0mloss\u001b[0m \u001b[0;34m=\u001b[0m \u001b[0mcriterion\u001b[0m\u001b[0;34m(\u001b[0m\u001b[0mout\u001b[0m\u001b[0;34m,\u001b[0m \u001b[0my\u001b[0m\u001b[0;34m)\u001b[0m\u001b[0;34m\u001b[0m\u001b[0;34m\u001b[0m\u001b[0m\n\u001b[0;32m---> 13\u001b[0;31m         \u001b[0mloss\u001b[0m\u001b[0;34m.\u001b[0m\u001b[0mbackward\u001b[0m\u001b[0;34m(\u001b[0m\u001b[0;34m)\u001b[0m\u001b[0;34m\u001b[0m\u001b[0;34m\u001b[0m\u001b[0m\n\u001b[0m\u001b[1;32m     14\u001b[0m         \u001b[0moptimizer\u001b[0m\u001b[0;34m.\u001b[0m\u001b[0mstep\u001b[0m\u001b[0;34m(\u001b[0m\u001b[0;34m)\u001b[0m\u001b[0;34m\u001b[0m\u001b[0;34m\u001b[0m\u001b[0m\n\u001b[1;32m     15\u001b[0m         \u001b[0mcorrect\u001b[0m \u001b[0;34m+=\u001b[0m \u001b[0;34m(\u001b[0m\u001b[0mout\u001b[0m\u001b[0;34m.\u001b[0m\u001b[0margmax\u001b[0m\u001b[0;34m(\u001b[0m\u001b[0;36m1\u001b[0m\u001b[0;34m)\u001b[0m \u001b[0;34m==\u001b[0m \u001b[0my\u001b[0m\u001b[0;34m)\u001b[0m\u001b[0;34m.\u001b[0m\u001b[0msum\u001b[0m\u001b[0;34m(\u001b[0m\u001b[0;34m)\u001b[0m\u001b[0;34m.\u001b[0m\u001b[0mitem\u001b[0m\u001b[0;34m(\u001b[0m\u001b[0;34m)\u001b[0m\u001b[0;34m\u001b[0m\u001b[0;34m\u001b[0m\u001b[0m\n",
            "\u001b[0;32m/usr/local/lib/python3.12/dist-packages/torch/_tensor.py\u001b[0m in \u001b[0;36mbackward\u001b[0;34m(self, gradient, retain_graph, create_graph, inputs)\u001b[0m\n\u001b[1;32m    645\u001b[0m                 \u001b[0minputs\u001b[0m\u001b[0;34m=\u001b[0m\u001b[0minputs\u001b[0m\u001b[0;34m,\u001b[0m\u001b[0;34m\u001b[0m\u001b[0;34m\u001b[0m\u001b[0m\n\u001b[1;32m    646\u001b[0m             )\n\u001b[0;32m--> 647\u001b[0;31m         torch.autograd.backward(\n\u001b[0m\u001b[1;32m    648\u001b[0m             \u001b[0mself\u001b[0m\u001b[0;34m,\u001b[0m \u001b[0mgradient\u001b[0m\u001b[0;34m,\u001b[0m \u001b[0mretain_graph\u001b[0m\u001b[0;34m,\u001b[0m \u001b[0mcreate_graph\u001b[0m\u001b[0;34m,\u001b[0m \u001b[0minputs\u001b[0m\u001b[0;34m=\u001b[0m\u001b[0minputs\u001b[0m\u001b[0;34m\u001b[0m\u001b[0;34m\u001b[0m\u001b[0m\n\u001b[1;32m    649\u001b[0m         )\n",
            "\u001b[0;32m/usr/local/lib/python3.12/dist-packages/torch/autograd/__init__.py\u001b[0m in \u001b[0;36mbackward\u001b[0;34m(tensors, grad_tensors, retain_graph, create_graph, grad_variables, inputs)\u001b[0m\n\u001b[1;32m    352\u001b[0m     \u001b[0;31m# some Python versions print out the first line of a multi-line function\u001b[0m\u001b[0;34m\u001b[0m\u001b[0;34m\u001b[0m\u001b[0m\n\u001b[1;32m    353\u001b[0m     \u001b[0;31m# calls in the traceback and some print out the last line\u001b[0m\u001b[0;34m\u001b[0m\u001b[0;34m\u001b[0m\u001b[0m\n\u001b[0;32m--> 354\u001b[0;31m     _engine_run_backward(\n\u001b[0m\u001b[1;32m    355\u001b[0m         \u001b[0mtensors\u001b[0m\u001b[0;34m,\u001b[0m\u001b[0;34m\u001b[0m\u001b[0;34m\u001b[0m\u001b[0m\n\u001b[1;32m    356\u001b[0m         \u001b[0mgrad_tensors_\u001b[0m\u001b[0;34m,\u001b[0m\u001b[0;34m\u001b[0m\u001b[0;34m\u001b[0m\u001b[0m\n",
            "\u001b[0;32m/usr/local/lib/python3.12/dist-packages/torch/autograd/graph.py\u001b[0m in \u001b[0;36m_engine_run_backward\u001b[0;34m(t_outputs, *args, **kwargs)\u001b[0m\n\u001b[1;32m    827\u001b[0m         \u001b[0munregister_hooks\u001b[0m \u001b[0;34m=\u001b[0m \u001b[0m_register_logging_hooks_on_whole_graph\u001b[0m\u001b[0;34m(\u001b[0m\u001b[0mt_outputs\u001b[0m\u001b[0;34m)\u001b[0m\u001b[0;34m\u001b[0m\u001b[0;34m\u001b[0m\u001b[0m\n\u001b[1;32m    828\u001b[0m     \u001b[0;32mtry\u001b[0m\u001b[0;34m:\u001b[0m\u001b[0;34m\u001b[0m\u001b[0;34m\u001b[0m\u001b[0m\n\u001b[0;32m--> 829\u001b[0;31m         return Variable._execution_engine.run_backward(  # Calls into the C++ engine to run the backward pass\n\u001b[0m\u001b[1;32m    830\u001b[0m             \u001b[0mt_outputs\u001b[0m\u001b[0;34m,\u001b[0m \u001b[0;34m*\u001b[0m\u001b[0margs\u001b[0m\u001b[0;34m,\u001b[0m \u001b[0;34m**\u001b[0m\u001b[0mkwargs\u001b[0m\u001b[0;34m\u001b[0m\u001b[0;34m\u001b[0m\u001b[0m\n\u001b[1;32m    831\u001b[0m         )  # Calls into the C++ engine to run the backward pass\n",
            "\u001b[0;31mKeyboardInterrupt\u001b[0m: "
          ]
        }
      ]
    },
    {
      "cell_type": "markdown",
      "source": [
        "# Evaluation"
      ],
      "metadata": {
        "id": "tcnlVh28K3ZQ"
      }
    },
    {
      "cell_type": "code",
      "source": [
        "plt.plot(train_accs, label=\"Train\")\n",
        "plt.plot(test_accs, label=\"Test\")\n",
        "plt.title(\"ViT-L/16 on Oxford Pet Dataset\")\n",
        "plt.xlabel(\"Epoch\")\n",
        "plt.ylabel(\"Accuracy\")\n",
        "plt.legend()\n",
        "plt.grid(True)\n",
        "plt.show()"
      ],
      "metadata": {
        "id": "x1Nsha3NBqt7"
      },
      "execution_count": null,
      "outputs": []
    },
    {
      "cell_type": "code",
      "source": [
        "all_preds = torch.cat(all_preds)\n",
        "all_labels = torch.cat(all_labels)\n",
        "cm = confusion_matrix(all_labels, all_preds)\n",
        "ConfusionMatrixDisplay.from_predictions(all_labels, all_preds, cmap=\"Blues\", xticks_rotation=45)\n",
        "plt.title(\"Confusion Matrix\")\n",
        "plt.show()"
      ],
      "metadata": {
        "id": "bG3k3eTFBuYx"
      },
      "execution_count": null,
      "outputs": []
    },
    {
      "cell_type": "markdown",
      "source": [
        "# Visualization"
      ],
      "metadata": {
        "id": "DeG19ELZK-Mc"
      }
    },
    {
      "cell_type": "code",
      "source": [
        "# Grad-CAM like attention visualization (requires ViT attention support)\n",
        "def show_attention_map(model, dataloader):\n",
        "    model.eval()\n",
        "    with torch.no_grad():\n",
        "        for x, _ in dataloader:\n",
        "            x = x[:1].to(DEVICE)\n",
        "            _ = model(x)  # forward pass\n",
        "            if hasattr(model.blocks[-1].attn, 'get_attention_map'):\n",
        "                attn = model.blocks[-1].attn.get_attention_map()\n",
        "                attn_map = attn[0, :, 0, 1:].mean(0)  # [heads, N, N] -> mean head attention to patches\n",
        "                attn_map = attn_map.reshape(int(attn_map.shape[0] ** 0.5), -1)\n",
        "                attn_map = F.interpolate(\n",
        "                    attn_map.unsqueeze(0).unsqueeze(0),\n",
        "                    size=(IMG_SIZE, IMG_SIZE),\n",
        "                    mode='bilinear'\n",
        "                )[0, 0]\n",
        "                img = x[0].permute(1, 2, 0).cpu().numpy()\n",
        "                img = (img * 0.5 + 0.5).clip(0, 1)\n",
        "                plt.imshow(img)\n",
        "                plt.imshow(attn_map.cpu(), cmap='jet', alpha=0.4)\n",
        "                plt.title(\"Attention Overlay\")\n",
        "                plt.axis(\"off\")\n",
        "                plt.show()\n",
        "            break\n"
      ],
      "metadata": {
        "id": "dpn-1LjuCHUG"
      },
      "execution_count": null,
      "outputs": []
    }
  ]
}