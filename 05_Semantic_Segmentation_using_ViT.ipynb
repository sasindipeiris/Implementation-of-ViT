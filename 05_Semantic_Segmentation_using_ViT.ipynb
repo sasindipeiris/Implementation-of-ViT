{
  "cells": [
    {
      "cell_type": "markdown",
      "metadata": {
        "id": "cqxIAIpww_HX"
      },
      "source": [
        "# Segmenter for Semantic Segmentation on OxfordIIITPet using ViT-Small"
      ]
    },
    {
      "cell_type": "markdown",
      "metadata": {
        "id": "hTStXMOsxSjW"
      },
      "source": [
        "# Imports"
      ]
    },
    {
      "cell_type": "code",
      "execution_count": 1,
      "metadata": {
        "id": "7gHyVjM_woIT"
      },
      "outputs": [],
      "source": [
        "import torch\n",
        "import torch.nn as nn\n",
        "import torch.nn.functional as F\n",
        "from torchvision import transforms,datasets\n",
        "from torch.utils.data import DataLoader\n",
        "from torchvision.datasets import OxfordIIITPet\n",
        "import matplotlib.pyplot as plt\n",
        "import timm\n",
        "import numpy as np\n",
        "import os\n"
      ]
    },
    {
      "cell_type": "markdown",
      "metadata": {
        "id": "aCU6M7lNx7jW"
      },
      "source": [
        "# Config"
      ]
    },
    {
      "cell_type": "code",
      "execution_count": 2,
      "metadata": {
        "id": "uMwl7Pbxx-ZU"
      },
      "outputs": [],
      "source": [
        "DEVICE = torch.device(\"cuda\" if torch.cuda.is_available() else \"cpu\")\n",
        "IMG_SIZE = 224\n",
        "BATCH_SIZE = 8\n",
        "NUM_CLASSES = 3\n",
        "EPOCHS = 20"
      ]
    },
    {
      "cell_type": "markdown",
      "metadata": {
        "id": "1If8RQd-yFpa"
      },
      "source": [
        "# Dataset"
      ]
    },
    {
      "cell_type": "code",
      "execution_count": 3,
      "metadata": {
        "id": "TyDzl_YtyHxl"
      },
      "outputs": [],
      "source": [
        "# Transformations\n",
        "transform = transforms.Compose([\n",
        "transforms.Resize((IMG_SIZE, IMG_SIZE)),\n",
        "transforms.ToTensor(),\n",
        "])\n",
        "\n",
        "\n",
        "target_transform = transforms.Compose([\n",
        "transforms.Resize((IMG_SIZE, IMG_SIZE), interpolation=transforms.InterpolationMode.NEAREST),\n",
        "transforms.PILToTensor()\n",
        "])"
      ]
    },
    {
      "cell_type": "code",
      "execution_count": 4,
      "metadata": {
        "id": "Uer0tkdlBx0Y",
        "colab": {
          "base_uri": "https://localhost:8080/"
        },
        "outputId": "a4991391-9362-409e-a810-f84ef935b0f7"
      },
      "outputs": [
        {
          "output_type": "stream",
          "name": "stderr",
          "text": [
            "100%|██████████| 792M/792M [00:24<00:00, 32.3MB/s]\n",
            "100%|██████████| 19.2M/19.2M [00:01<00:00, 17.9MB/s]\n"
          ]
        }
      ],
      "source": [
        "trainset = OxfordIIITPet(\n",
        "root=\"./data\", download=True,\n",
        "target_types=\"segmentation\",\n",
        "transform=transform,\n",
        "target_transform=target_transform\n",
        ")\n",
        "trainloader = DataLoader(trainset, batch_size=BATCH_SIZE, shuffle=True)"
      ]
    },
    {
      "cell_type": "markdown",
      "metadata": {
        "id": "tpir62CPCULS"
      },
      "source": [
        "# Segmenter Model"
      ]
    },
    {
      "cell_type": "code",
      "execution_count": 5,
      "metadata": {
        "colab": {
          "base_uri": "https://localhost:8080/",
          "height": 173,
          "referenced_widgets": [
            "6143be4e03a44dfaa62b12acb80ab836",
            "bf41265b46954d3eb6481fd5f8b545ff",
            "834e268ab256428f8822d237badae8cb",
            "2cfbefb89def47f285ade5df0e9a2611",
            "d4295365299e44e193d29b0cf051e022",
            "264dca63978c411c912033205a3bfd78",
            "14b148f37deb4e88a9cf25001bb2bb14",
            "dc20671073594a5caedfadacf7c00169",
            "86c4fdabbe444d2e835ce969e8fdffd0",
            "b1d44c9c1d87480c8cfe74cd07a932cc",
            "9a558eb4904a44e395ddbbf9a94a5703"
          ]
        },
        "id": "f1nSL_VnV6ZU",
        "outputId": "3a93f1aa-41cd-43be-ddba-fadd6a936936"
      },
      "outputs": [
        {
          "output_type": "stream",
          "name": "stderr",
          "text": [
            "/usr/local/lib/python3.12/dist-packages/huggingface_hub/utils/_auth.py:94: UserWarning: \n",
            "The secret `HF_TOKEN` does not exist in your Colab secrets.\n",
            "To authenticate with the Hugging Face Hub, create a token in your settings tab (https://huggingface.co/settings/tokens), set it as secret in your Google Colab and restart your session.\n",
            "You will be able to reuse this secret in all of your notebooks.\n",
            "Please note that authentication is recommended but still optional to access public models or datasets.\n",
            "  warnings.warn(\n"
          ]
        },
        {
          "output_type": "display_data",
          "data": {
            "text/plain": [
              "model.safetensors:   0%|          | 0.00/88.2M [00:00<?, ?B/s]"
            ],
            "application/vnd.jupyter.widget-view+json": {
              "version_major": 2,
              "version_minor": 0,
              "model_id": "6143be4e03a44dfaa62b12acb80ab836"
            }
          },
          "metadata": {}
        }
      ],
      "source": [
        "\n",
        "\n",
        "# ViT backbone\n",
        "vit = timm.create_model(\n",
        "    \"vit_small_patch16_224\",\n",
        "    pretrained=True,\n",
        "    num_classes=0,   # no classifier head\n",
        "    global_pool=''   # keep token sequence, don't pool to CLS\n",
        ")\n",
        "\n",
        "class TransformerDecoderBlock(nn.Module):\n",
        "    def __init__(self, dim, num_heads=6, mlp_ratio=4.0):\n",
        "        super().__init__()\n",
        "        self.norm1 = nn.LayerNorm(dim)\n",
        "        self.attn  = nn.MultiheadAttention(embed_dim=dim, num_heads=num_heads, batch_first=True)\n",
        "        self.norm2 = nn.LayerNorm(dim)\n",
        "        self.mlp   = nn.Sequential(\n",
        "            nn.Linear(dim, int(dim*mlp_ratio)),\n",
        "            nn.GELU(),\n",
        "            nn.Linear(int(dim*mlp_ratio), dim),\n",
        "        )\n",
        "    def forward(self, x):\n",
        "        x = x + self.attn(self.norm1(x), self.norm1(x), self.norm1(x))[0]\n",
        "        x = x + self.mlp(self.norm2(x))\n",
        "        return x\n",
        "\n",
        "class Segmenter(nn.Module):\n",
        "    def __init__(self, encoder, num_classes=3, depth=2):\n",
        "        super().__init__()\n",
        "        self.encoder = encoder\n",
        "        embed_dim = encoder.embed_dim                  # 384 for ViT-S\n",
        "        self.num_prefix = getattr(encoder, 'num_prefix_tokens', 1)  # CLS or CLS+dist\n",
        "        self.grid = encoder.patch_embed.grid_size      # (gh, gw) e.g., (14,14) for 224/16\n",
        "        self.decoder = nn.Sequential(*[TransformerDecoderBlock(embed_dim) for _ in range(depth)])\n",
        "        self.seg_head = nn.Linear(embed_dim, num_classes)\n",
        "\n",
        "    def forward(self, x):\n",
        "        # tokens: (B, Nprefix + Npatch, D)\n",
        "        tokens = self.encoder.forward_features(x)      # sequence, not pooled\n",
        "\n",
        "        # drop prefix tokens (CLS / CLS+dist)\n",
        "        if tokens.dim() != 3:\n",
        "            raise RuntimeError(f\"Unexpected encoder output shape: {tokens.shape}\")\n",
        "        if self.num_prefix > 0:\n",
        "            tokens = tokens[:, self.num_prefix:, :]    # keep only patch tokens\n",
        "\n",
        "        tokens = self.decoder(tokens)                  # (B, Npatch, D)\n",
        "        logits = self.seg_head(tokens)                 # (B, Npatch, C)\n",
        "\n",
        "        # reshape to (B, C, gh, gw) using REAL grid\n",
        "        gh, gw = self.grid\n",
        "        B, N, C = logits.shape\n",
        "        if N != gh * gw:                               # defensive: trim/pad if needed\n",
        "            logits = logits[:, :gh*gw, :]\n",
        "        logits = logits.transpose(1, 2).reshape(B, C, gh, gw)\n",
        "        return logits\n"
      ]
    },
    {
      "cell_type": "markdown",
      "metadata": {
        "id": "PfQ8q6y1Ek-J"
      },
      "source": [
        "# Training"
      ]
    },
    {
      "cell_type": "code",
      "execution_count": 6,
      "metadata": {
        "colab": {
          "base_uri": "https://localhost:8080/"
        },
        "id": "Jv_cO0lSWE_E",
        "outputId": "bb40d686-287c-46ef-8198-cfb5a5a25c4d"
      },
      "outputs": [
        {
          "output_type": "stream",
          "name": "stdout",
          "text": [
            " CPU sanity pass ok. Moving to CUDA.\n",
            "Epoch 1/20  Loss: 0.2996\n",
            "Epoch 2/20  Loss: 0.2147\n",
            "Epoch 3/20  Loss: 0.2177\n",
            "Epoch 4/20  Loss: 0.2182\n",
            "Epoch 5/20  Loss: 0.1746\n",
            "Epoch 6/20  Loss: 0.2421\n",
            "Epoch 7/20  Loss: 0.1763\n",
            "Epoch 8/20  Loss: 0.1700\n",
            "Epoch 9/20  Loss: 0.2355\n",
            "Epoch 10/20  Loss: 0.1745\n",
            "Epoch 11/20  Loss: 0.1408\n",
            "Epoch 12/20  Loss: 0.1296\n",
            "Epoch 13/20  Loss: 0.1903\n",
            "Epoch 14/20  Loss: 0.1760\n",
            "Epoch 15/20  Loss: 0.1332\n",
            "Epoch 16/20  Loss: 0.1648\n",
            "Epoch 17/20  Loss: 0.1379\n",
            "Epoch 18/20  Loss: 0.1275\n",
            "Epoch 19/20  Loss: 0.1970\n",
            "Epoch 20/20  Loss: 0.1652\n"
          ]
        }
      ],
      "source": [
        "\n",
        "\n",
        "NUM_CLASSES = 3\n",
        "IMG_SIZE = 224\n",
        "DEVICE_CPU  = torch.device(\"cpu\")\n",
        "DEVICE_CUDA = torch.device(\"cuda\" if torch.cuda.is_available() else \"cpu\")\n",
        "\n",
        "model = Segmenter(vit, num_classes=NUM_CLASSES, depth=2)\n",
        "criterion = nn.CrossEntropyLoss()   # labels in {0,1,2}\n",
        "optimizer = torch.optim.Adam(model.parameters(), lr=3e-4)\n",
        "\n",
        "# CPU sanity pass on ONE batch\n",
        "model.to(DEVICE_CPU)\n",
        "x_cpu, y_cpu = next(iter(trainloader))            # x: [B,3,H,W], y: [B,1,H,W] in {1,2,3}\n",
        "y_cpu = y_cpu.squeeze(1).long()                   # [B,H,W]\n",
        "y_cpu = torch.clamp(y_cpu - 1, 0, NUM_CLASSES-1)  # {1,2,3} -> {0,1,2}\n",
        "\n",
        "with torch.no_grad():\n",
        "    out_cpu = model(x_cpu)                        # (B,C,gh,gw)\n",
        "    out_cpu = F.interpolate(out_cpu, size=y_cpu.shape[-2:], mode='bilinear', align_corners=False)\n",
        "\n",
        "# Hard checks BEFORE loss:\n",
        "assert out_cpu.ndim == 4 and out_cpu.shape[1] == NUM_CLASSES, f\"bad out shape {out_cpu.shape}\"\n",
        "assert y_cpu.ndim == 3, f\"bad y shape {y_cpu.shape}\"\n",
        "assert y_cpu.dtype == torch.long, f\"y dtype must be long, got {y_cpu.dtype}\"\n",
        "u = torch.unique(y_cpu)\n",
        "assert torch.all((u >= 0) & (u < NUM_CLASSES)), f\"labels out of range: {u}\"\n",
        "\n",
        "# Try CPU loss once (will throw a precise error if anything is off)\n",
        "_ = criterion(out_cpu, y_cpu)\n",
        "\n",
        "print(\" CPU sanity pass ok. Moving to CUDA.\")\n",
        "\n",
        "# 2) Real training on CUDA\n",
        "model.to(DEVICE_CUDA)\n",
        "\n",
        "EPOCHS = 20\n",
        "for epoch in range(EPOCHS):\n",
        "    model.train()\n",
        "    total_loss = 0.0\n",
        "    for x, y in trainloader:\n",
        "        x = x.to(DEVICE_CUDA, non_blocking=True)              # [B,3,H,W]\n",
        "        y = y.squeeze(1).long()                               # [B,H,W]\n",
        "        y = torch.clamp(y - 1, 0, NUM_CLASSES-1).to(DEVICE_CUDA)\n",
        "\n",
        "        optimizer.zero_grad(set_to_none=True)\n",
        "        out = model(x)                                        # (B,C,gh,gw)\n",
        "        out = F.interpolate(out, size=y.shape[-2:], mode='bilinear', align_corners=False)\n",
        "        loss = criterion(out, y)\n",
        "        loss.backward()\n",
        "        optimizer.step()\n",
        "        total_loss += loss.item()\n",
        "\n",
        "    print(f\"Epoch {epoch+1}/{EPOCHS}  Loss: {total_loss/len(trainloader):.4f}\")\n"
      ]
    },
    {
      "cell_type": "markdown",
      "metadata": {
        "id": "U1d-YX5jZHuy"
      },
      "source": [
        "# Evaluation"
      ]
    },
    {
      "cell_type": "code",
      "source": [
        "def evaluate_segmentation(model, dataloader):\n",
        "    model.eval()\n",
        "    correct, total = 0, 0\n",
        "    intersection, union = 0, 0\n",
        "\n",
        "    with torch.no_grad():\n",
        "        for x, y in dataloader:\n",
        "            x = x.to(DEVICE_CUDA)\n",
        "            y = y.squeeze(1).long().to(DEVICE_CUDA)\n",
        "            y = torch.clamp(y - 1, 0, 2)   # map to {0,1,2}\n",
        "\n",
        "            out = model(x)\n",
        "            out = F.interpolate(out, size=y.shape[-2:], mode='bilinear', align_corners=False)\n",
        "            preds = out.argmax(1)\n",
        "\n",
        "            correct += (preds == y).sum().item()\n",
        "            total += y.numel()\n",
        "\n",
        "            intersection += torch.logical_and(preds==y, y>0).sum().item()\n",
        "            union += torch.logical_or(preds>0, y>0).sum().item()\n",
        "\n",
        "    pix_acc = correct / total\n",
        "    iou = intersection / union if union > 0 else 0\n",
        "    print(f\"Pixel Accuracy: {pix_acc*100:.2f}%, IoU: {iou*100:.2f}%\")\n",
        "\n",
        "evaluate_segmentation(model, trainloader)\n"
      ],
      "metadata": {
        "colab": {
          "base_uri": "https://localhost:8080/"
        },
        "id": "hmfmOdwmBrQQ",
        "outputId": "70cd046b-d40d-4c54-a91a-f858c12e7e16"
      },
      "execution_count": 7,
      "outputs": [
        {
          "output_type": "stream",
          "name": "stdout",
          "text": [
            "Pixel Accuracy: 93.45%, IoU: 90.80%\n"
          ]
        }
      ]
    },
    {
      "cell_type": "code",
      "source": [
        "with torch.no_grad():\n",
        "    x, _ = next(iter(trainloader))\n",
        "    out = model(x.to(DEVICE_CUDA))\n",
        "    out = F.interpolate(out, size=(IMG_SIZE, IMG_SIZE), mode='bilinear', align_corners=False)\n",
        "    heatmap = torch.softmax(out, dim=1)[0,1].cpu().numpy()  # class 1 prob map\n",
        "    plt.imshow(heatmap, cmap='inferno')\n",
        "    plt.title(\"Model Confidence for 'Pet' Class\")\n",
        "    plt.axis(\"off\")\n",
        "    plt.show()\n"
      ],
      "metadata": {
        "colab": {
          "base_uri": "https://localhost:8080/",
          "height": 428
        },
        "id": "G2z8pzLGCQ3x",
        "outputId": "98244acc-d825-4b28-ee04-7aec733cd0ea"
      },
      "execution_count": 8,
      "outputs": [
        {
          "output_type": "display_data",
          "data": {
            "text/plain": [
              "<Figure size 640x480 with 1 Axes>"
            ],
            "image/png": "[encoded data removed]"
          },
          "metadata": {}
        }
      ]
    }
  ],
  "metadata": {
    "accelerator": "GPU",
    "colab": {
      "gpuType": "T4",
      "provenance": []
    },
    "kernelspec": {
      "display_name": "Python 3",
      "name": "python3"
    },
    "language_info": {
      "name": "python"
    },
    "widgets": {
      "application/vnd.jupyter.widget-state+json": {
        "6143be4e03a44dfaa62b12acb80ab836": {
          "model_module": "@jupyter-widgets/controls",
          "model_name": "HBoxModel",
          "model_module_version": "1.5.0",
          "state": {
            "_dom_classes": [],
            "_model_module": "@jupyter-widgets/controls",
            "_model_module_version": "1.5.0",
            "_model_name": "HBoxModel",
            "_view_count": null,
            "_view_module": "@jupyter-widgets/controls",
            "_view_module_version": "1.5.0",
            "_view_name": "HBoxView",
            "box_style": "",
            "children": [
              "IPY_MODEL_bf41265b46954d3eb6481fd5f8b545ff",
              "IPY_MODEL_834e268ab256428f8822d237badae8cb",
              "IPY_MODEL_2cfbefb89def47f285ade5df0e9a2611"
            ],
            "layout": "IPY_MODEL_d4295365299e44e193d29b0cf051e022"
          }
        },
        "bf41265b46954d3eb6481fd5f8b545ff": {
          "model_module": "@jupyter-widgets/controls",
          "model_name": "HTMLModel",
          "model_module_version": "1.5.0",
          "state": {
            "_dom_classes": [],
            "_model_module": "@jupyter-widgets/controls",
            "_model_module_version": "1.5.0",
            "_model_name": "HTMLModel",
            "_view_count": null,
            "_view_module": "@jupyter-widgets/controls",
            "_view_module_version": "1.5.0",
            "_view_name": "HTMLView",
            "description": "",
            "description_tooltip": null,
            "layout": "IPY_MODEL_264dca63978c411c912033205a3bfd78",
            "placeholder": "​",
            "style": "IPY_MODEL_14b148f37deb4e88a9cf25001bb2bb14",
            "value": "model.safetensors: 100%"
          }
        },
        "834e268ab256428f8822d237badae8cb": {
          "model_module": "@jupyter-widgets/controls",
          "model_name": "FloatProgressModel",
          "model_module_version": "1.5.0",
          "state": {
            "_dom_classes": [],
            "_model_module": "@jupyter-widgets/controls",
            "_model_module_version": "1.5.0",
            "_model_name": "FloatProgressModel",
            "_view_count": null,
            "_view_module": "@jupyter-widgets/controls",
            "_view_module_version": "1.5.0",
            "_view_name": "ProgressView",
            "bar_style": "success",
            "description": "",
            "description_tooltip": null,
            "layout": "IPY_MODEL_dc20671073594a5caedfadacf7c00169",
            "max": 88216496,
            "min": 0,
            "orientation": "horizontal",
            "style": "IPY_MODEL_86c4fdabbe444d2e835ce969e8fdffd0",
            "value": 88216496
          }
        },
        "2cfbefb89def47f285ade5df0e9a2611": {
          "model_module": "@jupyter-widgets/controls",
          "model_name": "HTMLModel",
          "model_module_version": "1.5.0",
          "state": {
            "_dom_classes": [],
            "_model_module": "@jupyter-widgets/controls",
            "_model_module_version": "1.5.0",
            "_model_name": "HTMLModel",
            "_view_count": null,
            "_view_module": "@jupyter-widgets/controls",
            "_view_module_version": "1.5.0",
            "_view_name": "HTMLView",
            "description": "",
            "description_tooltip": null,
            "layout": "IPY_MODEL_b1d44c9c1d87480c8cfe74cd07a932cc",
            "placeholder": "​",
            "style": "IPY_MODEL_9a558eb4904a44e395ddbbf9a94a5703",
            "value": " 88.2M/88.2M [00:01&lt;00:00, 77.9MB/s]"
          }
        },
        "d4295365299e44e193d29b0cf051e022": {
          "model_module": "@jupyter-widgets/base",
          "model_name": "LayoutModel",
          "model_module_version": "1.2.0",
          "state": {
            "_model_module": "@jupyter-widgets/base",
            "_model_module_version": "1.2.0",
            "_model_name": "LayoutModel",
            "_view_count": null,
            "_view_module": "@jupyter-widgets/base",
            "_view_module_version": "1.2.0",
            "_view_name": "LayoutView",
            "align_content": null,
            "align_items": null,
            "align_self": null,
            "border": null,
            "bottom": null,
            "display": null,
            "flex": null,
            "flex_flow": null,
            "grid_area": null,
            "grid_auto_columns": null,
            "grid_auto_flow": null,
            "grid_auto_rows": null,
            "grid_column": null,
            "grid_gap": null,
            "grid_row": null,
            "grid_template_areas": null,
            "grid_template_columns": null,
            "grid_template_rows": null,
            "height": null,
            "justify_content": null,
            "justify_items": null,
            "left": null,
            "margin": null,
            "max_height": null,
            "max_width": null,
            "min_height": null,
            "min_width": null,
            "object_fit": null,
            "object_position": null,
            "order": null,
            "overflow": null,
            "overflow_x": null,
            "overflow_y": null,
            "padding": null,
            "right": null,
            "top": null,
            "visibility": null,
            "width": null
          }
        },
        "264dca63978c411c912033205a3bfd78": {
          "model_module": "@jupyter-widgets/base",
          "model_name": "LayoutModel",
          "model_module_version": "1.2.0",
          "state": {
            "_model_module": "@jupyter-widgets/base",
            "_model_module_version": "1.2.0",
            "_model_name": "LayoutModel",
            "_view_count": null,
            "_view_module": "@jupyter-widgets/base",
            "_view_module_version": "1.2.0",
            "_view_name": "LayoutView",
            "align_content": null,
            "align_items": null,
            "align_self": null,
            "border": null,
            "bottom": null,
            "display": null,
            "flex": null,
            "flex_flow": null,
            "grid_area": null,
            "grid_auto_columns": null,
            "grid_auto_flow": null,
            "grid_auto_rows": null,
            "grid_column": null,
            "grid_gap": null,
            "grid_row": null,
            "grid_template_areas": null,
            "grid_template_columns": null,
            "grid_template_rows": null,
            "height": null,
            "justify_content": null,
            "justify_items": null,
            "left": null,
            "margin": null,
            "max_height": null,
            "max_width": null,
            "min_height": null,
            "min_width": null,
            "object_fit": null,
            "object_position": null,
            "order": null,
            "overflow": null,
            "overflow_x": null,
            "overflow_y": null,
            "padding": null,
            "right": null,
            "top": null,
            "visibility": null,
            "width": null
          }
        },
        "14b148f37deb4e88a9cf25001bb2bb14": {
          "model_module": "@jupyter-widgets/controls",
          "model_name": "DescriptionStyleModel",
          "model_module_version": "1.5.0",
          "state": {
            "_model_module": "@jupyter-widgets/controls",
            "_model_module_version": "1.5.0",
            "_model_name": "DescriptionStyleModel",
            "_view_count": null,
            "_view_module": "@jupyter-widgets/base",
            "_view_module_version": "1.2.0",
            "_view_name": "StyleView",
            "description_width": ""
          }
        },
        "dc20671073594a5caedfadacf7c00169": {
          "model_module": "@jupyter-widgets/base",
          "model_name": "LayoutModel",
          "model_module_version": "1.2.0",
          "state": {
            "_model_module": "@jupyter-widgets/base",
            "_model_module_version": "1.2.0",
            "_model_name": "LayoutModel",
            "_view_count": null,
            "_view_module": "@jupyter-widgets/base",
            "_view_module_version": "1.2.0",
            "_view_name": "LayoutView",
            "align_content": null,
            "align_items": null,
            "align_self": null,
            "border": null,
            "bottom": null,
            "display": null,
            "flex": null,
            "flex_flow": null,
            "grid_area": null,
            "grid_auto_columns": null,
            "grid_auto_flow": null,
            "grid_auto_rows": null,
            "grid_column": null,
            "grid_gap": null,
            "grid_row": null,
            "grid_template_areas": null,
            "grid_template_columns": null,
            "grid_template_rows": null,
            "height": null,
            "justify_content": null,
            "justify_items": null,
            "left": null,
            "margin": null,
            "max_height": null,
            "max_width": null,
            "min_height": null,
            "min_width": null,
            "object_fit": null,
            "object_position": null,
            "order": null,
            "overflow": null,
            "overflow_x": null,
            "overflow_y": null,
            "padding": null,
            "right": null,
            "top": null,
            "visibility": null,
            "width": null
          }
        },
        "86c4fdabbe444d2e835ce969e8fdffd0": {
          "model_module": "@jupyter-widgets/controls",
          "model_name": "ProgressStyleModel",
          "model_module_version": "1.5.0",
          "state": {
            "_model_module": "@jupyter-widgets/controls",
            "_model_module_version": "1.5.0",
            "_model_name": "ProgressStyleModel",
            "_view_count": null,
            "_view_module": "@jupyter-widgets/base",
            "_view_module_version": "1.2.0",
            "_view_name": "StyleView",
            "bar_color": null,
            "description_width": ""
          }
        },
        "b1d44c9c1d87480c8cfe74cd07a932cc": {
          "model_module": "@jupyter-widgets/base",
          "model_name": "LayoutModel",
          "model_module_version": "1.2.0",
          "state": {
            "_model_module": "@jupyter-widgets/base",
            "_model_module_version": "1.2.0",
            "_model_name": "LayoutModel",
            "_view_count": null,
            "_view_module": "@jupyter-widgets/base",
            "_view_module_version": "1.2.0",
            "_view_name": "LayoutView",
            "align_content": null,
            "align_items": null,
            "align_self": null,
            "border": null,
            "bottom": null,
            "display": null,
            "flex": null,
            "flex_flow": null,
            "grid_area": null,
            "grid_auto_columns": null,
            "grid_auto_flow": null,
            "grid_auto_rows": null,
            "grid_column": null,
            "grid_gap": null,
            "grid_row": null,
            "grid_template_areas": null,
            "grid_template_columns": null,
            "grid_template_rows": null,
            "height": null,
            "justify_content": null,
            "justify_items": null,
            "left": null,
            "margin": null,
            "max_height": null,
            "max_width": null,
            "min_height": null,
            "min_width": null,
            "object_fit": null,
            "object_position": null,
            "order": null,
            "overflow": null,
            "overflow_x": null,
            "overflow_y": null,
            "padding": null,
            "right": null,
            "top": null,
            "visibility": null,
            "width": null
          }
        },
        "9a558eb4904a44e395ddbbf9a94a5703": {
          "model_module": "@jupyter-widgets/controls",
          "model_name": "DescriptionStyleModel",
          "model_module_version": "1.5.0",
          "state": {
            "_model_module": "@jupyter-widgets/controls",
            "_model_module_version": "1.5.0",
            "_model_name": "DescriptionStyleModel",
            "_view_count": null,
            "_view_module": "@jupyter-widgets/base",
            "_view_module_version": "1.2.0",
            "_view_name": "StyleView",
            "description_width": ""
          }
        }
      }
    }
  },
  "nbformat": 4,
  "nbformat_minor": 0
}