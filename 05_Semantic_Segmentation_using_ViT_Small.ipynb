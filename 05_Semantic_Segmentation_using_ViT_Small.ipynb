{
  "nbformat": 4,
  "nbformat_minor": 0,
  "metadata": {
    "colab": {
      "provenance": [],
      "gpuType": "T4"
    },
    "kernelspec": {
      "name": "python3",
      "display_name": "Python 3"
    },
    "language_info": {
      "name": "python"
    },
    "accelerator": "GPU"
  },
  "cells": [
    {
      "cell_type": "markdown",
      "source": [
        "# Segmenter for Semantic Segmentation on OxfordIIITPet using ViT-Small"
      ],
      "metadata": {
        "id": "cqxIAIpww_HX"
      }
    },
    {
      "cell_type": "markdown",
      "source": [
        "# Imports"
      ],
      "metadata": {
        "id": "hTStXMOsxSjW"
      }
    },
    {
      "cell_type": "code",
      "execution_count": 1,
      "metadata": {
        "id": "7gHyVjM_woIT"
      },
      "outputs": [],
      "source": [
        "import torch\n",
        "import torch.nn as nn\n",
        "import torch.nn.functional as F\n",
        "from torchvision import transforms,datasets\n",
        "from torchvision.transforms import functional as TF\n",
        "from torch.utils.data import DataLoader\n",
        "from torchvision.datasets import OxfordIIITPet\n",
        "import matplotlib.pyplot as plt\n",
        "import timm\n",
        "import numpy as np\n",
        "import os\n"
      ]
    },
    {
      "cell_type": "markdown",
      "source": [
        "# Config"
      ],
      "metadata": {
        "id": "aCU6M7lNx7jW"
      }
    },
    {
      "cell_type": "code",
      "source": [
        "DEVICE = torch.device(\"cuda\" if torch.cuda.is_available() else \"cpu\")\n",
        "IMG_SIZE = 224\n",
        "BATCH_SIZE = 8\n",
        "NUM_CLASSES = 3\n",
        "EPOCHS = 20"
      ],
      "metadata": {
        "id": "uMwl7Pbxx-ZU"
      },
      "execution_count": 2,
      "outputs": []
    },
    {
      "cell_type": "markdown",
      "source": [
        "# Dataset"
      ],
      "metadata": {
        "id": "1If8RQd-yFpa"
      }
    },
    {
      "cell_type": "code",
      "source": [
        "# Transformations\n",
        "transform_img = transforms.Compose([\n",
        "transforms.Resize((IMG_SIZE, IMG_SIZE)),\n",
        "transforms.ToTensor(),\n",
        "])\n",
        "\n",
        "def mask_transform(mask):\n",
        "    # Resize with nearest-neighbor (preserve labels)\n",
        "    mask = TF.resize(mask, (IMG_SIZE, IMG_SIZE), interpolation=transforms.InterpolationMode.NEAREST)\n",
        "    mask = np.array(mask, dtype=np.uint8)\n",
        "    return torch.from_numpy(mask).unsqueeze(0)  # [1,H,W], no normalization!\n",
        "\n"
      ],
      "metadata": {
        "id": "TyDzl_YtyHxl"
      },
      "execution_count": 3,
      "outputs": []
    },
    {
      "cell_type": "code",
      "source": [
        "trainset = OxfordIIITPet(\n",
        "root=\"./data\", download=True,\n",
        "target_types=\"segmentation\",\n",
        "transform=transform_img,\n",
        "target_transform=mask_transform\n",
        ")\n",
        "trainloader = DataLoader(trainset, batch_size=BATCH_SIZE, shuffle=True)"
      ],
      "metadata": {
        "id": "Uer0tkdlBx0Y"
      },
      "execution_count": 4,
      "outputs": []
    },
    {
      "cell_type": "markdown",
      "source": [
        "# Segmenter Model"
      ],
      "metadata": {
        "id": "tpir62CPCULS"
      }
    },
    {
      "cell_type": "code",
      "source": [
        "# ViT backbone\n",
        "vit = timm.create_model(\n",
        "    \"vit_small_patch16_224\",\n",
        "    pretrained=True,\n",
        "    num_classes=0,   # no classifier head\n",
        "    global_pool=''   # keep token sequence, don't pool to CLS\n",
        ")\n",
        "\n",
        "class TransformerDecoderBlock(nn.Module):\n",
        "    def __init__(self, dim, num_heads=6, mlp_ratio=4.0):\n",
        "        super().__init__()\n",
        "        self.norm1 = nn.LayerNorm(dim)\n",
        "        self.attn  = nn.MultiheadAttention(embed_dim=dim, num_heads=num_heads, batch_first=True)\n",
        "        self.norm2 = nn.LayerNorm(dim)\n",
        "        self.mlp   = nn.Sequential(\n",
        "            nn.Linear(dim, int(dim*mlp_ratio)),\n",
        "            nn.GELU(),\n",
        "            nn.Linear(int(dim*mlp_ratio), dim),\n",
        "        )\n",
        "    def forward(self, x):\n",
        "        x = x + self.attn(self.norm1(x), self.norm1(x), self.norm1(x))[0]\n",
        "        x = x + self.mlp(self.norm2(x))\n",
        "        return x\n",
        "\n",
        "class Segmenter(nn.Module):\n",
        "    def __init__(self, encoder, num_classes=3, depth=2):\n",
        "        super().__init__()\n",
        "        self.encoder = encoder\n",
        "        embed_dim = encoder.embed_dim                  # 384 for ViT-S\n",
        "        self.num_prefix = getattr(encoder, 'num_prefix_tokens', 1)  # CLS or CLS+dist\n",
        "        self.grid = encoder.patch_embed.grid_size      # (gh, gw) e.g., (14,14) for 224/16\n",
        "        self.decoder = nn.Sequential(*[TransformerDecoderBlock(embed_dim) for _ in range(depth)])\n",
        "        self.seg_head = nn.Linear(embed_dim, num_classes)\n",
        "\n",
        "    def forward(self, x):\n",
        "        # tokens: (B, Nprefix + Npatch, D)\n",
        "        tokens = self.encoder.forward_features(x)      # sequence, not pooled\n",
        "\n",
        "        # drop prefix tokens (CLS / CLS+dist)\n",
        "        if tokens.dim() != 3:\n",
        "            raise RuntimeError(f\"Unexpected encoder output shape: {tokens.shape}\")\n",
        "        if self.num_prefix > 0:\n",
        "            tokens = tokens[:, self.num_prefix:, :]    # keep only patch tokens\n",
        "\n",
        "        tokens = self.decoder(tokens)                  # (B, Npatch, D)\n",
        "        logits = self.seg_head(tokens)                 # (B, Npatch, C)\n",
        "\n",
        "        # reshape to (B, C, gh, gw) using REAL grid\n",
        "        gh, gw = self.grid\n",
        "        B, N, C = logits.shape\n",
        "        if N != gh * gw:                               # defensive: trim/pad if needed\n",
        "            logits = logits[:, :gh*gw, :]\n",
        "        logits = logits.transpose(1, 2).reshape(B, C, gh, gw)\n",
        "        return logits\n"
      ],
      "metadata": {
        "colab": {
          "base_uri": "https://localhost:8080/"
        },
        "id": "f1nSL_VnV6ZU",
        "outputId": "4a4edd0a-818b-40f8-9377-49aaeeae96ab"
      },
      "execution_count": 5,
      "outputs": [
        {
          "output_type": "stream",
          "name": "stderr",
          "text": [
            "/usr/local/lib/python3.12/dist-packages/huggingface_hub/utils/_auth.py:94: UserWarning: \n",
            "The secret `HF_TOKEN` does not exist in your Colab secrets.\n",
            "To authenticate with the Hugging Face Hub, create a token in your settings tab (https://huggingface.co/settings/tokens), set it as secret in your Google Colab and restart your session.\n",
            "You will be able to reuse this secret in all of your notebooks.\n",
            "Please note that authentication is recommended but still optional to access public models or datasets.\n",
            "  warnings.warn(\n"
          ]
        }
      ]
    },
    {
      "cell_type": "markdown",
      "source": [
        "# Training"
      ],
      "metadata": {
        "id": "PfQ8q6y1Ek-J"
      }
    },
    {
      "cell_type": "code",
      "source": [
        "\n",
        "\n",
        "NUM_CLASSES = 3\n",
        "IMG_SIZE = 224\n",
        "DEVICE_CPU  = torch.device(\"cpu\")\n",
        "DEVICE_CUDA = torch.device(\"cuda\" if torch.cuda.is_available() else \"cpu\")\n",
        "\n",
        "model = Segmenter(vit, num_classes=NUM_CLASSES, depth=2)\n",
        "criterion = nn.CrossEntropyLoss()   # labels in {0,1,2}\n",
        "optimizer = torch.optim.Adam(model.parameters(), lr=3e-4)\n",
        "\n",
        "# CPU sanity pass on ONE batch\n",
        "model.to(DEVICE_CPU)\n",
        "x_cpu, y_cpu = next(iter(trainloader))            # x: [B,3,H,W], y: [B,1,H,W] in {1,2,3}\n",
        "y_cpu = y_cpu.squeeze(1).long()                   # [B,H,W]\n",
        "y_cpu = torch.clamp(y_cpu - 1, 0, NUM_CLASSES-1)  # {1,2,3} -> {0,1,2}\n",
        "\n",
        "with torch.no_grad():\n",
        "    out_cpu = model(x_cpu)                        # (B,C,gh,gw)\n",
        "    out_cpu = F.interpolate(out_cpu, size=y_cpu.shape[-2:], mode='bilinear', align_corners=False)\n",
        "\n",
        "# Hard checks BEFORE loss:\n",
        "assert out_cpu.ndim == 4 and out_cpu.shape[1] == NUM_CLASSES, f\"bad out shape {out_cpu.shape}\"\n",
        "assert y_cpu.ndim == 3, f\"bad y shape {y_cpu.shape}\"\n",
        "assert y_cpu.dtype == torch.long, f\"y dtype must be long, got {y_cpu.dtype}\"\n",
        "u = torch.unique(y_cpu)\n",
        "assert torch.all((u >= 0) & (u < NUM_CLASSES)), f\"labels out of range: {u}\"\n",
        "\n",
        "# Try CPU loss once (will throw a precise error if anything is off)\n",
        "_ = criterion(out_cpu, y_cpu)\n",
        "\n",
        "print(\" CPU sanity pass ok. Moving to CUDA.\")\n",
        "\n",
        "# 2) Real training on CUDA\n",
        "model.to(DEVICE_CUDA)\n",
        "\n",
        "EPOCHS = 20\n",
        "for epoch in range(EPOCHS):\n",
        "    model.train()\n",
        "    total_loss = 0.0\n",
        "    for x, y in trainloader:\n",
        "        x = x.to(DEVICE_CUDA, non_blocking=True)              # [B,3,H,W]\n",
        "        y = y.squeeze(1).long()                               # [B,H,W]\n",
        "        y = torch.clamp(y - 1, 0, NUM_CLASSES-1).to(DEVICE_CUDA)\n",
        "\n",
        "        optimizer.zero_grad(set_to_none=True)\n",
        "        out = model(x)                                        # (B,C,gh,gw)\n",
        "        out = F.interpolate(out, size=y.shape[-2:], mode='bilinear', align_corners=False)\n",
        "        loss = criterion(out, y)\n",
        "        loss.backward()\n",
        "        optimizer.step()\n",
        "        total_loss += loss.item()\n",
        "\n",
        "    print(f\"Epoch {epoch+1}/{EPOCHS}  Loss: {total_loss/len(trainloader):.4f}\")\n"
      ],
      "metadata": {
        "colab": {
          "base_uri": "https://localhost:8080/"
        },
        "id": "Jv_cO0lSWE_E",
        "outputId": "eac2d7e3-afa1-4a1a-d29d-549e88878dbf"
      },
      "execution_count": 6,
      "outputs": [
        {
          "output_type": "stream",
          "name": "stdout",
          "text": [
            " CPU sanity pass ok. Moving to CUDA.\n",
            "Epoch 1/20  Loss: 0.2993\n",
            "Epoch 2/20  Loss: 0.2228\n",
            "Epoch 3/20  Loss: 0.2082\n",
            "Epoch 4/20  Loss: 0.2335\n",
            "Epoch 5/20  Loss: 0.1840\n",
            "Epoch 6/20  Loss: 0.1754\n",
            "Epoch 7/20  Loss: 0.2155\n",
            "Epoch 8/20  Loss: 0.1850\n",
            "Epoch 9/20  Loss: 0.1710\n",
            "Epoch 10/20  Loss: 0.1678\n",
            "Epoch 11/20  Loss: 0.1491\n",
            "Epoch 12/20  Loss: 0.1290\n",
            "Epoch 13/20  Loss: 0.2204\n",
            "Epoch 14/20  Loss: 0.1494\n",
            "Epoch 15/20  Loss: 0.1435\n",
            "Epoch 16/20  Loss: 0.1231\n",
            "Epoch 17/20  Loss: 0.2064\n",
            "Epoch 18/20  Loss: 0.1733\n",
            "Epoch 19/20  Loss: 0.1319\n",
            "Epoch 20/20  Loss: 0.1178\n"
          ]
        }
      ]
    },
    {
      "cell_type": "markdown",
      "source": [
        "# Evaluation"
      ],
      "metadata": {
        "id": "U1d-YX5jZHuy"
      }
    },
    {
      "cell_type": "code",
      "source": [
        "with torch.no_grad():\n",
        "    x, _ = next(iter(trainloader))\n",
        "    out = model(x.to(DEVICE_CUDA))\n",
        "    out = F.interpolate(out, size=(IMG_SIZE, IMG_SIZE), mode='bilinear', align_corners=False)\n",
        "    heatmap = torch.softmax(out, dim=1)[0,1].cpu().numpy()  # class 1 prob map\n",
        "    plt.imshow(heatmap, cmap='inferno')\n",
        "    plt.title(\"Model Confidence for 'Pet' Class\")\n",
        "    plt.axis(\"off\")\n",
        "    plt.show()\n"
      ],
      "metadata": {
        "id": "29U2WEreqc4b",
        "outputId": "63279c48-bfb7-4acc-e809-f6f6e27a9ebb",
        "colab": {
          "base_uri": "https://localhost:8080/",
          "height": 428
        }
      },
      "execution_count": 8,
      "outputs": [
        {
          "output_type": "display_data",
          "data": {
            "text/plain": [
              "<Figure size 640x480 with 1 Axes>"
            ],
            "image/png": "[encoded data removed]"
          },
          "metadata": {}
        }
      ]
    },
    {
      "cell_type": "code",
      "source": [
        "def evaluate_segmentation(model, dataloader):\n",
        "    model.eval()\n",
        "    correct, total = 0, 0\n",
        "    intersection, union = 0, 0\n",
        "\n",
        "    with torch.no_grad():\n",
        "        for x, y in dataloader:\n",
        "            x = x.to(DEVICE_CUDA)\n",
        "            y = y.squeeze(1).long().to(DEVICE_CUDA)\n",
        "            y = torch.clamp(y - 1, 0, 2)   # map to {0,1,2}\n",
        "\n",
        "            out = model(x)\n",
        "            out = F.interpolate(out, size=y.shape[-2:], mode='bilinear', align_corners=False)\n",
        "            preds = out.argmax(1)\n",
        "\n",
        "            correct += (preds == y).sum().item()\n",
        "            total += y.numel()\n",
        "\n",
        "            intersection += torch.logical_and(preds==y, y>0).sum().item()\n",
        "            union += torch.logical_or(preds>0, y>0).sum().item()\n",
        "\n",
        "    pix_acc = correct / total\n",
        "    iou = intersection / union if union > 0 else 0\n",
        "    print(f\"Pixel Accuracy: {pix_acc*100:.2f}%, IoU: {iou*100:.2f}%\")\n",
        "\n",
        "evaluate_segmentation(model, trainloader)\n"
      ],
      "metadata": {
        "id": "nn6_YY9YqofR",
        "outputId": "741ca4d6-58f2-449f-fa97-493c71124a59",
        "colab": {
          "base_uri": "https://localhost:8080/"
        }
      },
      "execution_count": 9,
      "outputs": [
        {
          "output_type": "stream",
          "name": "stdout",
          "text": [
            "Pixel Accuracy: 95.36%, IoU: 93.45%\n"
          ]
        }
      ]
    }
  ]
}