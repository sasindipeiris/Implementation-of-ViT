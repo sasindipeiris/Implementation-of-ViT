{
  "nbformat": 4,
  "nbformat_minor": 0,
  "metadata": {
    "colab": {
      "provenance": [],
      "gpuType": "T4"
    },
    "kernelspec": {
      "name": "python3",
      "display_name": "Python 3"
    },
    "language_info": {
      "name": "python"
    },
    "accelerator": "GPU"
  },
  "cells": [
    {
      "cell_type": "markdown",
      "source": [
        "# ViT Base with patch size 4 on CIFAR-10"
      ],
      "metadata": {
        "id": "aAaN2WVgZglR"
      }
    },
    {
      "cell_type": "markdown",
      "source": [
        "# 1. Imports"
      ],
      "metadata": {
        "id": "LO4fQFtPZ2_O"
      }
    },
    {
      "cell_type": "code",
      "source": [
        "import torch\n",
        "import torch.nn as nn\n",
        "import torch.nn.functional as F\n",
        "from torchvision import datasets, transforms\n",
        "from torch.utils.data import DataLoader\n",
        "import matplotlib.pyplot as plt"
      ],
      "metadata": {
        "id": "RbVHyx4iaCRU"
      },
      "execution_count": null,
      "outputs": []
    },
    {
      "cell_type": "markdown",
      "source": [
        "# 2. Hyperparameters"
      ],
      "metadata": {
        "id": "PSIXCbEZaGcQ"
      }
    },
    {
      "cell_type": "code",
      "source": [
        "BATCH_SIZE = 128\n",
        "PATCH_SIZE = 4  #32x32 / 4x4 = 8x8 patches\n",
        "NUM_CLASSES = 10\n",
        "EPOCHS = 20\n",
        "LR = 3e-4\n",
        "DEVICE = torch.device(\"cuda\" if torch.cuda.is_available() else \"cpu\")"
      ],
      "metadata": {
        "id": "ENs_M7jnaaJ-"
      },
      "execution_count": null,
      "outputs": []
    },
    {
      "cell_type": "markdown",
      "source": [
        "# 3. Patch + Positional Embedding"
      ],
      "metadata": {
        "id": "cCtWcJhIal_1"
      }
    },
    {
      "cell_type": "code",
      "source": [
        "class PatchEmbed(nn.Module):\n",
        "  def __init__(self,img_size=32,patch_size=4,in_ch=3,embed_dim=256):\n",
        "    super().__init__()\n",
        "    self.n_patches=(img_size//patch_size)**2\n",
        "    self.proj=nn.Conv2d(in_ch,embed_dim,kernel_size=patch_size,stride=patch_size)\n",
        "    self.cls_token=nn.Parameter(torch.zeros(1,1,embed_dim))\n",
        "    self.pos_embed=nn.Parameter(torch.zeros(1,self.n_patches+1,embed_dim))\n",
        "\n",
        "  def forward(self,x):\n",
        "    B=x.shape[0]\n",
        "    x=self.proj(x).flatten(2).transpose(1,2) #(B,N,D)\n",
        "    cls_token=self.cls_token.expand(B,-1,-1) #(B,1,D)\n",
        "    x=torch.cat((cls_token,x),dim=1) #(B,N+1,D)\n",
        "    x=x+self.pos_embed\n",
        "    return x"
      ],
      "metadata": {
        "id": "B0slODwAasSJ"
      },
      "execution_count": null,
      "outputs": []
    },
    {
      "cell_type": "markdown",
      "source": [
        "# 4. Multihead Self Attention"
      ],
      "metadata": {
        "id": "79ce0XdTeIC1"
      }
    },
    {
      "cell_type": "code",
      "source": [
        "class MultiHeadSelfAttention(nn.Module):\n",
        "    def __init__(self, embed_dim, num_heads):\n",
        "        super().__init__()\n",
        "        self.num_heads = num_heads\n",
        "        self.head_dim = embed_dim // num_heads\n",
        "        assert embed_dim % num_heads == 0, \"embed_dim must be divisible by num_heads\"\n",
        "\n",
        "        # Linear projection for Q, K, V combined\n",
        "        self.qkv = nn.Linear(embed_dim, embed_dim * 3)\n",
        "        self.out = nn.Linear(embed_dim, embed_dim)\n",
        "\n",
        "    def forward(self, x):\n",
        "        B, N, D = x.shape  # Batch, sequence length, embedding dim\n",
        "\n",
        "        # Project to q, k, v and reshape for multi-head attention\n",
        "        qkv = self.qkv(x)  # (B, N, 3 * D)\n",
        "        qkv = qkv.reshape(B, N, 3, self.num_heads, self.head_dim)\n",
        "        qkv = qkv.permute(2, 0, 3, 1, 4)  # (3, B, heads, N, head_dim)\n",
        "        q, k, v = qkv[0], qkv[1], qkv[2]\n",
        "\n",
        "        attn = (q @ k.transpose(-2, -1)) / (self.head_dim ** 0.5)\n",
        "        attn = attn.softmax(dim=-1)\n",
        "        out = (attn @ v).transpose(1, 2).reshape(B, N, D)\n",
        "        return self.out(out)\n"
      ],
      "metadata": {
        "id": "jHEhD98g3yXs"
      },
      "execution_count": null,
      "outputs": []
    },
    {
      "cell_type": "markdown",
      "source": [
        "# 5. Transformer Encoder Block"
      ],
      "metadata": {
        "id": "-hNXNgDNcM69"
      }
    },
    {
      "cell_type": "code",
      "source": [
        "class TransformerEncoderBlock(nn.Module):\n",
        "  def __init__(self,embed_dim=256,num_heads=8,mlp_ratio=4.0,dropout=0.1):\n",
        "    super().__init__()\n",
        "    self.norm1=nn.LayerNorm(embed_dim)\n",
        "    self.attn=MultiHeadSelfAttention(embed_dim,num_heads)\n",
        "    self.norm2=nn.LayerNorm(embed_dim)\n",
        "    self.mlp=nn.Sequential(\n",
        "        nn.Linear(embed_dim,int(embed_dim*mlp_ratio)),\n",
        "        nn.GELU(),\n",
        "        nn.Linear(int(embed_dim*mlp_ratio),embed_dim),\n",
        "        nn.Dropout(dropout),\n",
        "    )\n",
        "  def forward(self,x):\n",
        "    x=x+self.attn(self.norm1(x))\n",
        "    x=x+self.mlp(self.norm2(x))\n",
        "    return x"
      ],
      "metadata": {
        "id": "z12fnQJqcVCw"
      },
      "execution_count": null,
      "outputs": []
    },
    {
      "cell_type": "markdown",
      "source": [
        "# 6. ViT class"
      ],
      "metadata": {
        "id": "HyU-_F03k3cs"
      }
    },
    {
      "cell_type": "code",
      "source": [
        "class ViT(nn.Module):\n",
        "    def __init__(self, img_size=32, patch_size=4, in_ch=3, num_classes=10, embed_dim=256, depth=6, num_heads=8):\n",
        "        super().__init__()\n",
        "        self.patch_embed = PatchEmbed(img_size, patch_size, in_ch, embed_dim)\n",
        "        self.encoder_blocks = nn.ModuleList([\n",
        "            TransformerEncoderBlock(embed_dim, num_heads) for _ in range(depth)\n",
        "        ])\n",
        "        self.norm = nn.LayerNorm(embed_dim)\n",
        "        self.head = nn.Linear(embed_dim, num_classes)\n",
        "\n",
        "    def forward(self, x, visualize=False):\n",
        "        x = self.patch_embed(x)\n",
        "        for blk in self.encoder_blocks:\n",
        "            x = blk(x)\n",
        "        # if visualization mode, return attention weights from last block\n",
        "        if visualize:\n",
        "            return self.encoder_blocks[-1].attn.attn_weights\n",
        "        x = self.norm(x[:, 0])\n",
        "        return self.head(x)\n"
      ],
      "metadata": {
        "id": "5vZPq8ZnDmER"
      },
      "execution_count": null,
      "outputs": []
    },
    {
      "cell_type": "markdown",
      "source": [
        "# 7.Dataset & DataLoaders"
      ],
      "metadata": {
        "id": "8ezWRXt8mNTX"
      }
    },
    {
      "cell_type": "code",
      "source": [
        "transform = transforms.Compose([\n",
        "    transforms.RandomHorizontalFlip(),\n",
        "    transforms.ToTensor(),\n",
        "    transforms.Normalize(mean=[0.4914, 0.4822, 0.4465],\n",
        "                         std=[0.2470, 0.2435, 0.2616])\n",
        "\n",
        "])"
      ],
      "metadata": {
        "id": "17bfxAVV6aF8"
      },
      "execution_count": null,
      "outputs": []
    },
    {
      "cell_type": "code",
      "source": [
        "trainset = datasets.CIFAR10(root='./data', train=True, download=True, transform=transform)\n",
        "testset = datasets.CIFAR10(root='./data', train=False, download=True, transform=transforms.ToTensor())\n",
        "trainloader = DataLoader(trainset, batch_size=BATCH_SIZE, shuffle=True)\n",
        "testloader = DataLoader(testset, batch_size=BATCH_SIZE, shuffle=False)"
      ],
      "metadata": {
        "colab": {
          "base_uri": "https://localhost:8080/"
        },
        "id": "5kdyu6dxmg6o",
        "outputId": "8a4f7588-1b16-4c58-9142-5c58825e8890"
      },
      "execution_count": null,
      "outputs": [
        {
          "output_type": "stream",
          "name": "stderr",
          "text": [
            "100%|██████████| 170M/170M [00:14<00:00, 11.9MB/s]\n"
          ]
        }
      ]
    },
    {
      "cell_type": "markdown",
      "source": [
        "# 8.Training Loop"
      ],
      "metadata": {
        "id": "KvNoT7h2osMn"
      }
    },
    {
      "cell_type": "code",
      "source": [
        "\n",
        "def train_model(model, optimizer, criterion, trainloader, testloader):\n",
        "    train_accs, test_accs = [], []\n",
        "    for epoch in range(EPOCHS):\n",
        "        model.train()\n",
        "        correct, total = 0, 0\n",
        "        for x, y in trainloader:\n",
        "            x, y = x.to(DEVICE), y.to(DEVICE)\n",
        "            optimizer.zero_grad()\n",
        "            out = model(x)\n",
        "            loss = criterion(out, y)\n",
        "            loss.backward()\n",
        "            optimizer.step()\n",
        "            pred = out.argmax(dim=1)\n",
        "            correct += (pred == y).sum().item()\n",
        "            total += y.size(0)\n",
        "        train_acc = correct / total\n",
        "\n",
        "        model.eval()\n",
        "        correct, total = 0, 0\n",
        "        with torch.no_grad():\n",
        "            for x, y in testloader:\n",
        "                x, y = x.to(DEVICE), y.to(DEVICE)\n",
        "                out = model(x)\n",
        "                pred = out.argmax(dim=1)\n",
        "                correct += (pred == y).sum().item()\n",
        "                total += y.size(0)\n",
        "        test_acc = correct / total\n",
        "        train_accs.append(train_acc)\n",
        "        test_accs.append(test_acc)\n",
        "        print(f\"Epoch {epoch+1}/{EPOCHS} | Train Acc: {train_acc:.4f} | Test Acc: {test_acc:.4f}\")\n",
        "    return train_accs, test_accs\n"
      ],
      "metadata": {
        "id": "3_hyEzQb6BDe"
      },
      "execution_count": null,
      "outputs": []
    },
    {
      "cell_type": "markdown",
      "source": [
        "# 9. Training ViT"
      ],
      "metadata": {
        "id": "tXZYh_Q-mqaL"
      }
    },
    {
      "cell_type": "code",
      "source": [
        "vit = ViT().to(DEVICE)\n",
        "vit_opt = torch.optim.Adam(vit.parameters(), lr=LR)\n",
        "criterion = nn.CrossEntropyLoss()\n",
        "\n",
        "\n",
        "print(\"Training Vision Transformer...\")\n",
        "vit_train_acc, vit_test_acc = train_model(vit, vit_opt, criterion, trainloader, testloader)"
      ],
      "metadata": {
        "colab": {
          "base_uri": "https://localhost:8080/"
        },
        "id": "1q1cpvTypGlI",
        "outputId": "230a6e9e-b5f6-43c7-ea20-2cfa5b2a55be"
      },
      "execution_count": null,
      "outputs": [
        {
          "output_type": "stream",
          "name": "stdout",
          "text": [
            "Training Vision Transformer...\n",
            "Epoch 1/20 | Train Acc: 0.3150 | Test Acc: 0.4095\n",
            "Epoch 2/20 | Train Acc: 0.4881 | Test Acc: 0.5219\n",
            "Epoch 3/20 | Train Acc: 0.5541 | Test Acc: 0.5437\n",
            "Epoch 4/20 | Train Acc: 0.5869 | Test Acc: 0.5839\n",
            "Epoch 5/20 | Train Acc: 0.6108 | Test Acc: 0.5994\n",
            "Epoch 6/20 | Train Acc: 0.6299 | Test Acc: 0.6206\n",
            "Epoch 7/20 | Train Acc: 0.6463 | Test Acc: 0.6196\n",
            "Epoch 8/20 | Train Acc: 0.6581 | Test Acc: 0.6370\n",
            "Epoch 9/20 | Train Acc: 0.6705 | Test Acc: 0.6301\n",
            "Epoch 10/20 | Train Acc: 0.6855 | Test Acc: 0.6478\n",
            "Epoch 11/20 | Train Acc: 0.6962 | Test Acc: 0.6437\n",
            "Epoch 12/20 | Train Acc: 0.7074 | Test Acc: 0.6510\n",
            "Epoch 13/20 | Train Acc: 0.7212 | Test Acc: 0.6565\n",
            "Epoch 14/20 | Train Acc: 0.7311 | Test Acc: 0.6504\n",
            "Epoch 15/20 | Train Acc: 0.7422 | Test Acc: 0.6504\n",
            "Epoch 16/20 | Train Acc: 0.7573 | Test Acc: 0.6634\n",
            "Epoch 17/20 | Train Acc: 0.7659 | Test Acc: 0.6629\n",
            "Epoch 18/20 | Train Acc: 0.7803 | Test Acc: 0.6493\n",
            "Epoch 19/20 | Train Acc: 0.7936 | Test Acc: 0.6583\n",
            "Epoch 20/20 | Train Acc: 0.8075 | Test Acc: 0.6569\n"
          ]
        }
      ]
    },
    {
      "cell_type": "markdown",
      "source": [
        "# 10. Training ResNet Baseline"
      ],
      "metadata": {
        "id": "jD8C6bOMpN-j"
      }
    },
    {
      "cell_type": "code",
      "source": [
        "from torchvision import models\n",
        "\n",
        "resnet = models.resnet18(weights=None, num_classes=10).to(DEVICE)\n",
        "res_opt = torch.optim.Adam(resnet.parameters(), lr=LR)\n",
        "print(\"\\nTraining ResNet18 baseline...\")\n",
        "res_train_acc, res_test_acc = train_model(resnet, res_opt, criterion, trainloader, testloader)"
      ],
      "metadata": {
        "colab": {
          "base_uri": "https://localhost:8080/"
        },
        "id": "bI1gOZdRpTE1",
        "outputId": "0d1aa5bc-db61-4052-9d68-a3c47b5df6f7"
      },
      "execution_count": null,
      "outputs": [
        {
          "output_type": "stream",
          "name": "stdout",
          "text": [
            "\n",
            "Training ResNet18 baseline...\n",
            "Epoch 1/20 | Train Acc: 0.4828 | Test Acc: 0.5241\n",
            "Epoch 2/20 | Train Acc: 0.6166 | Test Acc: 0.5617\n",
            "Epoch 3/20 | Train Acc: 0.6741 | Test Acc: 0.6373\n",
            "Epoch 4/20 | Train Acc: 0.7206 | Test Acc: 0.5944\n",
            "Epoch 5/20 | Train Acc: 0.7461 | Test Acc: 0.7052\n",
            "Epoch 6/20 | Train Acc: 0.7763 | Test Acc: 0.6640\n",
            "Epoch 7/20 | Train Acc: 0.7963 | Test Acc: 0.7149\n",
            "Epoch 8/20 | Train Acc: 0.8170 | Test Acc: 0.7104\n",
            "Epoch 9/20 | Train Acc: 0.8365 | Test Acc: 0.7174\n",
            "Epoch 10/20 | Train Acc: 0.8535 | Test Acc: 0.6936\n",
            "Epoch 11/20 | Train Acc: 0.8647 | Test Acc: 0.7249\n",
            "Epoch 12/20 | Train Acc: 0.8801 | Test Acc: 0.7315\n",
            "Epoch 13/20 | Train Acc: 0.8925 | Test Acc: 0.7357\n",
            "Epoch 14/20 | Train Acc: 0.9029 | Test Acc: 0.6981\n",
            "Epoch 15/20 | Train Acc: 0.9148 | Test Acc: 0.7065\n",
            "Epoch 16/20 | Train Acc: 0.9192 | Test Acc: 0.7339\n",
            "Epoch 17/20 | Train Acc: 0.9279 | Test Acc: 0.7384\n",
            "Epoch 18/20 | Train Acc: 0.9322 | Test Acc: 0.7289\n",
            "Epoch 19/20 | Train Acc: 0.9403 | Test Acc: 0.7228\n",
            "Epoch 20/20 | Train Acc: 0.9457 | Test Acc: 0.7513\n"
          ]
        }
      ]
    },
    {
      "cell_type": "markdown",
      "source": [
        "# 11. Model Evaluation"
      ],
      "metadata": {
        "id": "eEdCNo7npWUo"
      }
    },
    {
      "cell_type": "code",
      "source": [
        "plt.plot(vit_test_acc, label='ViT Test Acc')\n",
        "plt.plot(res_test_acc, label='ResNet18 Test Acc')\n",
        "plt.title('ViT vs ResNet18 on CIFAR-10')\n",
        "plt.xlabel('Epoch')\n",
        "plt.ylabel('Accuracy')\n",
        "plt.legend()\n",
        "plt.grid()\n",
        "plt.show()"
      ],
      "metadata": {
        "colab": {
          "base_uri": "https://localhost:8080/",
          "height": 472
        },
        "id": "bb7bxfzApaiL",
        "outputId": "a1e532d3-94ac-4d99-bf95-7e9e65b25560"
      },
      "execution_count": null,
      "outputs": [
        {
          "output_type": "display_data",
          "data": {
            "text/plain": [
              "<Figure size 640x480 with 1 Axes>"
            ],
            "image/png": "[encoded data removed]"
          },
          "metadata": {}
        }
      ]
    }
  ]
}