{
  "nbformat": 4,
  "nbformat_minor": 0,
  "metadata": {
    "colab": {
      "provenance": [],
      "gpuType": "T4"
    },
    "kernelspec": {
      "name": "python3",
      "display_name": "Python 3"
    },
    "language_info": {
      "name": "python"
    },
    "accelerator": "GPU"
  },
  "cells": [
    {
      "cell_type": "markdown",
      "source": [
        "# Imports"
      ],
      "metadata": {
        "id": "GCqZE_bwHNiY"
      }
    },
    {
      "cell_type": "code",
      "execution_count": null,
      "metadata": {
        "id": "PCcg2zFL6MQ1"
      },
      "outputs": [],
      "source": [
        "import torch\n",
        "import torch.nn as nn\n",
        "import torch.nn.functional as F\n",
        "from torchvision import datasets, transforms\n",
        "from torch.utils.data import DataLoader\n",
        "import matplotlib.pyplot as plt"
      ]
    },
    {
      "cell_type": "markdown",
      "source": [
        "# Hyperparameters"
      ],
      "metadata": {
        "id": "0NTjTTcQHWXP"
      }
    },
    {
      "cell_type": "code",
      "source": [
        "BATCH_SIZE = 128\n",
        "EPOCHS = 15\n",
        "LR = 3e-4\n",
        "IMG_SIZE = 28\n",
        "DEVICE = torch.device('cuda' if torch.cuda.is_available() else 'cpu')"
      ],
      "metadata": {
        "id": "rPWebhAwHdru"
      },
      "execution_count": null,
      "outputs": []
    },
    {
      "cell_type": "markdown",
      "source": [
        "# Dataset Setup"
      ],
      "metadata": {
        "id": "FzDyoPpWHibC"
      }
    },
    {
      "cell_type": "code",
      "source": [
        "transform = transforms.Compose([\n",
        "transforms.Resize((IMG_SIZE, IMG_SIZE)),\n",
        "transforms.ToTensor(),\n",
        "])\n",
        "trainset = datasets.FashionMNIST(root='./data', train=True, download=True, transform=transform)\n",
        "testset = datasets.FashionMNIST(root='./data', train=False, download=True, transform=transform)\n",
        "trainloader = DataLoader(trainset, batch_size=BATCH_SIZE, shuffle=True)\n",
        "testloader = DataLoader(testset, batch_size=BATCH_SIZE, shuffle=False)\n",
        "\n",
        "\n",
        "NUM_CLASSES = 10"
      ],
      "metadata": {
        "colab": {
          "base_uri": "https://localhost:8080/"
        },
        "id": "F6ueV773Hob5",
        "outputId": "bb0b9912-6dd0-4508-f37f-c268a79b90fa"
      },
      "execution_count": null,
      "outputs": [
        {
          "output_type": "stream",
          "name": "stderr",
          "text": [
            "100%|██████████| 26.4M/26.4M [00:02<00:00, 12.5MB/s]\n",
            "100%|██████████| 29.5k/29.5k [00:00<00:00, 211kB/s]\n",
            "100%|██████████| 4.42M/4.42M [00:01<00:00, 3.89MB/s]\n",
            "100%|██████████| 5.15k/5.15k [00:00<00:00, 26.8MB/s]\n"
          ]
        }
      ]
    },
    {
      "cell_type": "markdown",
      "source": [
        "# CNN Backbone for Hybrid Model"
      ],
      "metadata": {
        "id": "lkZob7RRI_g3"
      }
    },
    {
      "cell_type": "code",
      "source": [
        "class SmallCNN(nn.Module):\n",
        "  def __init__(self,in_ch=1,out_ch=128):\n",
        "    super().__init__()\n",
        "    self.features=nn.Sequential(\n",
        "        nn.Conv2d(in_ch,32,3,padding=1),\n",
        "        nn.ReLU(),\n",
        "        nn.MaxPool2d(2),\n",
        "        nn.Conv2d(32,64,3,padding=1),\n",
        "        nn.ReLU(),\n",
        "        nn.MaxPool2d(2),\n",
        "        nn.Conv2d(64,out_ch,3,padding=1),\n",
        "        nn.ReLU()\n",
        "    )\n",
        "\n",
        "  def forward(self,x):\n",
        "    return self.features(x)"
      ],
      "metadata": {
        "id": "L743z8zpJEXA"
      },
      "execution_count": null,
      "outputs": []
    },
    {
      "cell_type": "markdown",
      "source": [
        "# ViT Components"
      ],
      "metadata": {
        "id": "EfnnZCf2KLlB"
      }
    },
    {
      "cell_type": "code",
      "source": [
        "class MultiHeadSelfAttention(nn.Module):\n",
        "    def __init__(self, embed_dim, num_heads):\n",
        "        super().__init__()\n",
        "        self.num_heads = num_heads\n",
        "        self.head_dim = embed_dim // num_heads\n",
        "        self.qkv = nn.Linear(embed_dim, embed_dim * 3)\n",
        "        self.out = nn.Linear(embed_dim, embed_dim)\n",
        "\n",
        "    def forward(self, x):\n",
        "        B, N, D = x.shape\n",
        "        qkv = self.qkv(x).reshape(B, N, 3, self.num_heads, self.head_dim).permute(2, 0, 3, 1, 4)\n",
        "        q, k, v = qkv[0], qkv[1], qkv[2]\n",
        "        attn = (q @ k.transpose(-2, -1)) / (self.head_dim ** 0.5)\n",
        "        attn = attn.softmax(dim=-1)\n",
        "        out = (attn @ v).transpose(1, 2).reshape(B, N, D)\n",
        "        return self.out(out)\n",
        "\n",
        "\n",
        "class TransformerEncoderBlock(nn.Module):\n",
        "    def __init__(self, embed_dim=256, num_heads=8, mlp_ratio=4.0):\n",
        "        super().__init__()\n",
        "        self.norm1 = nn.LayerNorm(embed_dim)\n",
        "        self.attn = MultiHeadSelfAttention(embed_dim, num_heads)\n",
        "        self.norm2 = nn.LayerNorm(embed_dim)\n",
        "        self.mlp = nn.Sequential(\n",
        "            nn.Linear(embed_dim, int(embed_dim * mlp_ratio)),\n",
        "            nn.GELU(),\n",
        "            nn.Linear(int(embed_dim * mlp_ratio), embed_dim)\n",
        "        )\n",
        "\n",
        "    def forward(self, x):\n",
        "        x = x + self.attn(self.norm1(x))\n",
        "        x = x + self.mlp(self.norm2(x))\n",
        "        return x\n",
        "\n",
        "\n",
        "class PatchEmbed(nn.Module):\n",
        "    def __init__(self, img_size=28, patch_size=4, in_ch=1, embed_dim=256):\n",
        "        super().__init__()\n",
        "        self.n_patches = (img_size // patch_size) ** 2\n",
        "        self.proj = nn.Conv2d(in_ch, embed_dim, kernel_size=patch_size, stride=patch_size)\n",
        "        self.cls_token = nn.Parameter(torch.zeros(1, 1, embed_dim))\n",
        "        self.pos_embed = nn.Parameter(torch.zeros(1, self.n_patches + 1, embed_dim))\n",
        "\n",
        "    def forward(self, x):\n",
        "        B = x.shape[0]\n",
        "        x = self.proj(x).flatten(2).transpose(1, 2)\n",
        "        cls_tokens = self.cls_token.expand(B, -1, -1)\n",
        "        x = torch.cat((cls_tokens, x), dim=1)\n",
        "        return x + self.pos_embed\n"
      ],
      "metadata": {
        "id": "2sCvD_ygKNux"
      },
      "execution_count": null,
      "outputs": []
    },
    {
      "cell_type": "markdown",
      "source": [
        "# Model Variants"
      ],
      "metadata": {
        "id": "YLqAL8yBKrPm"
      }
    },
    {
      "cell_type": "code",
      "source": [
        "class ViTOnly(nn.Module):\n",
        "  def __init__(self,img_size=28,patch_size=4,in_ch=1,embed_dim=256,depth=4,num_heads=8):\n",
        "    super().__init__()\n",
        "    self.patch_embed=PatchEmbed(img_size,patch_size,in_ch,embed_dim)\n",
        "    self.encoder=nn.Sequential(*[TransformerEncoderBlock(embed_dim, num_heads) for _ in range(depth)])\n",
        "    self.norm=nn.LayerNorm(embed_dim)\n",
        "    self.head=nn.Linear(embed_dim,NUM_CLASSES)\n",
        "\n",
        "  def forward(self,x):\n",
        "    x=self.patch_embed(x)\n",
        "    x=self.encoder(x)\n",
        "    x=self.norm(x[:,0])\n",
        "    return self.head(x)"
      ],
      "metadata": {
        "id": "gUOlCV2xKwPD"
      },
      "execution_count": null,
      "outputs": []
    },
    {
      "cell_type": "code",
      "source": [
        "class CNNOnly(nn.Module):\n",
        "  def __init__(self):\n",
        "    super().__init__()\n",
        "    self.cnn=SmallCNN()\n",
        "    self.classifier=nn.Sequential(\n",
        "        nn.AdaptiveAvgPool2d(1),\n",
        "        nn.Flatten(),\n",
        "        nn.Linear(128,NUM_CLASSES)\n",
        "    )\n",
        "\n",
        "  def forward(self,x):\n",
        "    x=self.cnn(x)\n",
        "    return self.classifier(x)"
      ],
      "metadata": {
        "id": "c1h7s6kxMxYF"
      },
      "execution_count": null,
      "outputs": []
    },
    {
      "cell_type": "code",
      "source": [
        "class HybridCNNViT(nn.Module):\n",
        "  def __init__(self,embed_dim=256,num_heads=8,depth=4):\n",
        "    super().__init__()\n",
        "    self.cnn=SmallCNN(out_ch=embed_dim)\n",
        "    self.flatten_proj=nn.Linear(embed_dim,embed_dim)\n",
        "    self.cls_token=nn.Parameter(torch.zeros(1,1,embed_dim))\n",
        "    self.pos_embed=nn.Parameter(torch.zeros(1,7*7+1,embed_dim))\n",
        "    self.encoder=nn.Sequential(*[TransformerEncoderBlock(embed_dim, num_heads) for _ in range(depth)])\n",
        "    self.norm=nn.LayerNorm(embed_dim)\n",
        "    self.head=nn.Linear(embed_dim,NUM_CLASSES)\n",
        "\n",
        "  def forward(self,x):\n",
        "    feat=self.cnn(x)\n",
        "    B, C, H, W = feat.shape\n",
        "    x=feat.flatten(2).transpose(1,2)\n",
        "    cls_token=self.cls_token.expand(B,-1,-1)\n",
        "    x=torch.cat((cls_token,x),dim=1)\n",
        "    x=x+self.pos_embed\n",
        "    x=self.encoder(x)\n",
        "    x=self.norm(x[:,0])\n",
        "    return self.head(x)"
      ],
      "metadata": {
        "id": "iQGOIQwWNagW"
      },
      "execution_count": null,
      "outputs": []
    },
    {
      "cell_type": "markdown",
      "source": [
        "# Training Loop"
      ],
      "metadata": {
        "id": "anZTq8K7Ptfz"
      }
    },
    {
      "cell_type": "code",
      "source": [
        "def train_model(model, optimizer, criterion, trainloader, testloader, name=\"Model\"):\n",
        "    print(f\"\\nTraining {name}...\")\n",
        "    train_accs, test_accs = [], []\n",
        "    for epoch in range(EPOCHS):\n",
        "        model.train()\n",
        "        correct, total = 0, 0\n",
        "        for x, y in trainloader:\n",
        "            x, y = x.to(DEVICE), y.to(DEVICE)\n",
        "            optimizer.zero_grad()\n",
        "            out = model(x)\n",
        "            loss = criterion(out, y)\n",
        "            loss.backward()\n",
        "            optimizer.step()\n",
        "            correct += (out.argmax(1) == y).sum().item()\n",
        "            total += y.size(0)\n",
        "        train_acc = correct / total\n",
        "\n",
        "        model.eval()\n",
        "        correct, total = 0, 0\n",
        "        with torch.no_grad():\n",
        "            for x, y in testloader:\n",
        "                x, y = x.to(DEVICE), y.to(DEVICE)\n",
        "                out = model(x)\n",
        "                correct += (out.argmax(1) == y).sum().item()\n",
        "                total += y.size(0)\n",
        "        test_acc = correct / total\n",
        "\n",
        "        train_accs.append(train_acc)\n",
        "        test_accs.append(test_acc)\n",
        "        print(f\"Epoch {epoch+1}/{EPOCHS} | Train: {train_acc:.4f} | Test: {test_acc:.4f}\")\n",
        "    return train_accs, test_accs\n"
      ],
      "metadata": {
        "id": "RbSGjeW8QXtm"
      },
      "execution_count": null,
      "outputs": []
    },
    {
      "cell_type": "markdown",
      "source": [
        "# Model Comparison"
      ],
      "metadata": {
        "id": "3ZYv0Or4QY68"
      }
    },
    {
      "cell_type": "code",
      "source": [
        "criterion=nn.CrossEntropyLoss()\n",
        "\n",
        "cnn_model=CNNOnly().to(DEVICE)\n",
        "cnn_opt=torch.optim.Adam(cnn_model.parameters(),lr=LR)\n",
        "cnn_train,cnn_test=train_model(cnn_model, cnn_opt, criterion, trainloader, testloader, \"CNN Only\")\n",
        "\n",
        "\n"
      ],
      "metadata": {
        "colab": {
          "base_uri": "https://localhost:8080/"
        },
        "id": "3AkBhNdEQgbJ",
        "outputId": "60b086db-7663-4e4c-d805-c42154a6c808"
      },
      "execution_count": null,
      "outputs": [
        {
          "output_type": "stream",
          "name": "stdout",
          "text": [
            "\n",
            "Training CNN Only...\n",
            "Epoch 1/15 | Train: 0.5544 | Test: 0.6963\n",
            "Epoch 2/15 | Train: 0.7159 | Test: 0.7289\n",
            "Epoch 3/15 | Train: 0.7387 | Test: 0.7317\n",
            "Epoch 4/15 | Train: 0.7511 | Test: 0.7484\n",
            "Epoch 5/15 | Train: 0.7663 | Test: 0.7668\n",
            "Epoch 6/15 | Train: 0.7741 | Test: 0.7782\n",
            "Epoch 7/15 | Train: 0.7828 | Test: 0.7812\n",
            "Epoch 8/15 | Train: 0.7912 | Test: 0.7924\n",
            "Epoch 9/15 | Train: 0.7978 | Test: 0.7990\n",
            "Epoch 10/15 | Train: 0.8040 | Test: 0.7986\n",
            "Epoch 11/15 | Train: 0.8117 | Test: 0.8074\n",
            "Epoch 12/15 | Train: 0.8161 | Test: 0.8162\n",
            "Epoch 13/15 | Train: 0.8216 | Test: 0.8201\n",
            "Epoch 14/15 | Train: 0.8252 | Test: 0.8162\n",
            "Epoch 15/15 | Train: 0.8295 | Test: 0.8274\n"
          ]
        }
      ]
    },
    {
      "cell_type": "code",
      "source": [
        "vit_model = ViTOnly().to(DEVICE)\n",
        "vit_opt = torch.optim.Adam(vit_model.parameters(), lr=LR)\n",
        "vit_train, vit_test = train_model(vit_model, vit_opt, criterion, trainloader, testloader, \"ViT Only\")\n",
        "\n",
        "\n"
      ],
      "metadata": {
        "colab": {
          "base_uri": "https://localhost:8080/"
        },
        "id": "S0hhs3_qS38L",
        "outputId": "016567ed-fc07-4abb-902b-8f38c88a7023"
      },
      "execution_count": null,
      "outputs": [
        {
          "output_type": "stream",
          "name": "stdout",
          "text": [
            "\n",
            "Training ViT Only...\n",
            "Epoch 1/15 | Train: 0.6817 | Test: 0.7885\n",
            "Epoch 2/15 | Train: 0.8269 | Test: 0.8148\n",
            "Epoch 3/15 | Train: 0.8471 | Test: 0.8392\n",
            "Epoch 4/15 | Train: 0.8587 | Test: 0.8438\n",
            "Epoch 5/15 | Train: 0.8634 | Test: 0.8556\n",
            "Epoch 6/15 | Train: 0.8714 | Test: 0.8533\n",
            "Epoch 7/15 | Train: 0.8777 | Test: 0.8576\n",
            "Epoch 8/15 | Train: 0.8831 | Test: 0.8689\n",
            "Epoch 9/15 | Train: 0.8865 | Test: 0.8706\n",
            "Epoch 10/15 | Train: 0.8927 | Test: 0.8730\n",
            "Epoch 11/15 | Train: 0.8974 | Test: 0.8688\n",
            "Epoch 12/15 | Train: 0.9037 | Test: 0.8773\n",
            "Epoch 13/15 | Train: 0.9073 | Test: 0.8784\n",
            "Epoch 14/15 | Train: 0.9116 | Test: 0.8693\n",
            "Epoch 15/15 | Train: 0.9169 | Test: 0.8787\n"
          ]
        }
      ]
    },
    {
      "cell_type": "code",
      "source": [
        "hybrid_model = HybridCNNViT().to(DEVICE)\n",
        "hybrid_opt = torch.optim.Adam(hybrid_model.parameters(), lr=LR)\n",
        "hybrid_train, hybrid_test = train_model(hybrid_model, hybrid_opt, criterion, trainloader, testloader, \"Hybrid CNN+ViT\")"
      ],
      "metadata": {
        "colab": {
          "base_uri": "https://localhost:8080/"
        },
        "id": "KWYYM2LIS79u",
        "outputId": "9bcee553-924b-4071-930d-c792a6e37294"
      },
      "execution_count": null,
      "outputs": [
        {
          "output_type": "stream",
          "name": "stdout",
          "text": [
            "\n",
            "Training Hybrid CNN+ViT...\n",
            "Epoch 1/15 | Train: 0.7492 | Test: 0.8387\n",
            "Epoch 2/15 | Train: 0.8676 | Test: 0.8631\n",
            "Epoch 3/15 | Train: 0.8871 | Test: 0.8869\n",
            "Epoch 4/15 | Train: 0.8973 | Test: 0.8963\n",
            "Epoch 5/15 | Train: 0.9078 | Test: 0.8956\n",
            "Epoch 6/15 | Train: 0.9130 | Test: 0.8954\n",
            "Epoch 7/15 | Train: 0.9187 | Test: 0.8975\n",
            "Epoch 8/15 | Train: 0.9228 | Test: 0.9031\n",
            "Epoch 9/15 | Train: 0.9274 | Test: 0.9096\n",
            "Epoch 10/15 | Train: 0.9317 | Test: 0.9103\n",
            "Epoch 11/15 | Train: 0.9349 | Test: 0.9068\n",
            "Epoch 12/15 | Train: 0.9387 | Test: 0.9093\n",
            "Epoch 13/15 | Train: 0.9410 | Test: 0.9115\n",
            "Epoch 14/15 | Train: 0.9446 | Test: 0.9061\n",
            "Epoch 15/15 | Train: 0.9480 | Test: 0.9125\n"
          ]
        }
      ]
    },
    {
      "cell_type": "code",
      "source": [
        "plt.figure(figsize=(8,5))\n",
        "plt.plot(cnn_test, label='CNN Only')\n",
        "plt.plot(vit_test, label='ViT Only')\n",
        "plt.plot(hybrid_test, label='Hybrid CNN+ViT')\n",
        "plt.title('Model Comparison on FashionMNIST')\n",
        "plt.xlabel('Epoch')\n",
        "plt.ylabel('Test Accuracy')\n",
        "plt.legend()\n",
        "plt.grid()\n",
        "plt.show()"
      ],
      "metadata": {
        "colab": {
          "base_uri": "https://localhost:8080/",
          "height": 469
        },
        "id": "9PBAwlAuRD7y",
        "outputId": "9c6cd0cf-94b7-498b-bdc7-0823c6fa2a67"
      },
      "execution_count": null,
      "outputs": [
        {
          "output_type": "display_data",
          "data": {
            "text/plain": [
              "<Figure size 800x500 with 1 Axes>"
            ],
            "image/png": "[encoded data removed]"
          },
          "metadata": {}
        }
      ]
    }
  ]
}